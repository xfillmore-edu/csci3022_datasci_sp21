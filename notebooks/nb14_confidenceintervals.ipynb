{
 "cells": [
  {
   "cell_type": "markdown",
   "metadata": {},
   "source": [
    "# Notebook 14: Introduction to Confidence Intervals\n",
    "***\n",
    "\n",
    "We'll need Numpy, Matplotlib, Pandas, and scipy.stats for this notebook, so let's load them. "
   ]
  },
  {
   "cell_type": "code",
   "execution_count": 1,
   "metadata": {},
   "outputs": [],
   "source": [
    "import numpy as np \n",
    "from scipy import stats\n",
    "import pandas as pd \n",
    "import matplotlib.pylab as plt \n",
    "%matplotlib inline"
   ]
  },
  {
   "cell_type": "markdown",
   "metadata": {},
   "source": [
    "### Exercise 1 - Sampling Confidence Intervals \n",
    "*** \n",
    "\n",
    "In this exercise we'll get some experience implementing confidence intervals for samples of a population.  Suppose that we wish to sample household incomes from a population in units of hundreds-of-thousands of dollars.  In general it is not necessary that we know the distribution that the quantity of interest follows, but in this case we'll assume that household income follows a Weibull distribution. \n",
    "\n",
    "We can draw samples from this population and plot the histogram as follows: "
   ]
  },
  {
   "cell_type": "code",
   "execution_count": 2,
   "metadata": {},
   "outputs": [
    {
     "data": {
      "image/png": "[encoded data removed]",
      "text/plain": [
       "<matplotlib.figure.Figure at 0x2167574eb38>"
      ]
     },
     "metadata": {},
     "output_type": "display_data"
    }
   ],
   "source": [
    "fig, ax = plt.subplots(nrows=1, ncols=1, figsize=(12,6))\n",
    "x = stats.weibull_min.rvs(loc=0.1, c=1.3, size=10000)\n",
    "pd.Series(x).hist(ax=ax, color=\"steelblue\", edgecolor=\"white\", bins=20, normed=True)\n",
    "ax.grid(alpha=0.25)\n",
    "ax.set_axisbelow(True)\n",
    "ax.set_xlabel(\"Income in Hundreds of Thousands of Dollars\", fontsize=16)\n",
    "ax.set_ylabel(\"Density\", fontsize=16)\n",
    "ax.set_title(\"Density of Income\", fontsize=20);"
   ]
  },
  {
   "cell_type": "markdown",
   "metadata": {},
   "source": [
    "**Part A**: Complete the following function that draws 20 independent samples of size $n$ from the population and plots confidence intervals for each sample against the mean.  Because we know the distribution from sampling from, we can use the exact mean and variance in the determination of the confidence intervals.   "
   ]
  },
  {
   "cell_type": "code",
   "execution_count": 59,
   "metadata": {},
   "outputs": [
    {
     "data": {
      "image/png": "[encoded data removed]",
      "text/plain": [
       "<matplotlib.figure.Figure at 0x21676ef8d30>"
      ]
     },
     "metadata": {},
     "output_type": "display_data"
    }
   ],
   "source": [
    "def income_CI(n=100, alpha=.05):\n",
    "    \n",
    "    fig, ax = plt.subplots(nrows=1, ncols=1, figsize=(12,6))\n",
    "    \n",
    "    # Get the true mean and variance of the distribution \n",
    "    mean, var = stats.weibull_min.stats(loc=0.1, c=1.3, moments='mv')\n",
    "    \n",
    "    ax.plot([0,19], [mean, mean], color=\"steelblue\", ls='--', lw=3)\n",
    "    alpha=.5\n",
    "    \n",
    "    # Draw 20 independent samples of size n \n",
    "    for sId in range(20):\n",
    "        # Draw samples from Weibull distribution \n",
    "        x = stats.weibull_min.rvs(loc=0.1, c=1.3, size=n)\n",
    "        xbar = np.sum(x)/len(x) # TODO - these values are placeholders\n",
    "        varx=np.sum([(xi-xbar)**2 for xi in x])/(len(x)-1)\n",
    "        z = stats.norm.ppf(1-alpha/2) # TODO \n",
    "        CImin = xbar-z*np.sqrt(varx)/np.sqrt(len(x))\n",
    "        CImax = xbar+z*np.sqrt(varx)/np.sqrt(len(x))\n",
    "        ax.plot([sId, sId], [CImin, CImax])\n",
    "        \n",
    "    ax.set_xlim([-1,20])\n",
    "    plt.xticks(range(20), fontsize=12)\n",
    "        \n",
    "income_CI(n=1000)"
   ]
  },
  {
   "cell_type": "code",
   "execution_count": 48,
   "metadata": {},
   "outputs": [
    {
     "name": "stdout",
     "output_type": "stream",
     "text": [
      "0.9602408251565567\n",
      "Theoretical mean and var: (array(1.02357672), array(0.51328072))\n",
      "Sample mean and var: 0.9602408251565567 0.4009780482401905\n"
     ]
    },
    {
     "data": {
      "text/plain": [
       "1.959963984540054"
      ]
     },
     "execution_count": 48,
     "metadata": {},
     "output_type": "execute_result"
    }
   ],
   "source": [
    "x = stats.weibull_min.rvs(loc=0.1, c=1.3, size=100)\n",
    "x\n",
    "meanx=np.sum(x)/len(x)\n",
    "print(meanx)\n",
    "varx=np.sum([(xi-meanx)**2 for xi in x])/(len(x)-1)\n",
    "print('Theoretical mean and var:', stats.weibull_min.stats(loc=0.1, c=1.3, moments='mv'))\n",
    "\n",
    "print('Sample mean and var:', meanx, varx)\n",
    "\n",
    "stats.norm.ppf(1-alpha/2) #yes, it's 1.96!!!"
   ]
  },
  {
   "cell_type": "markdown",
   "metadata": {},
   "source": [
    "**Part B**: Run your simulation above multiple times.  About how many of the 20 CIs would you expect to not cover the mean?  Do your experiments above bear this out?   "
   ]
  },
  {
   "cell_type": "code",
   "execution_count": null,
   "metadata": {
    "collapsed": true
   },
   "outputs": [],
   "source": []
  }
 ],
 "metadata": {
  "kernelspec": {
   "display_name": "Python 3",
   "language": "python",
   "name": "python3"
  },
  "language_info": {
   "codemirror_mode": {
    "name": "ipython",
    "version": 3
   },
   "file_extension": ".py",
   "mimetype": "text/x-python",
   "name": "python",
   "nbconvert_exporter": "python",
   "pygments_lexer": "ipython3",
   "version": "3.6.4"
  }
 },
 "nbformat": 4,
 "nbformat_minor": 2
}
