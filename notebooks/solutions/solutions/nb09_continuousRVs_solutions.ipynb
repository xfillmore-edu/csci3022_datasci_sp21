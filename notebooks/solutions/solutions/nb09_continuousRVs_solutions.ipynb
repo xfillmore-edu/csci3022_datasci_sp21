{
 "cells": [
  {
   "cell_type": "markdown",
   "metadata": {},
   "source": [
    "# Lecture 9: Continuous Random Variables and Their Distributions\n",
    "***\n",
    "\n",
    "In this notebook we'll get some more practice working with continuous random variables, their probability density functions, and their cumulative distribution functions.  Additionally, we'll see how we can sample from some continuous distributions using Python and explore the relationship between these samples and their associated densities. \n",
    "\n",
    "We'll need Numpy, Matplotlib, and possibly Pandas for this notebook, so let's load them. "
   ]
  },
  {
   "cell_type": "code",
   "execution_count": 1,
   "metadata": {
    "collapsed": true
   },
   "outputs": [],
   "source": [
    "import numpy as np \n",
    "import matplotlib.pyplot as plt \n",
    "import pandas as pd \n",
    "%matplotlib inline"
   ]
  },
  {
   "cell_type": "markdown",
   "metadata": {},
   "source": [
    "### Exercise 1 - Waiting For Buses \n",
    "*** \n",
    "\n",
    "Rhonda, arriving at a bus stop, just misses the bus.  Suppose that she decides to walk if the next bus takes longer than 5 minutes to arrive. Suppose also that the time in minutes between arrivals of buses at the bus stop is a continuous random variable with a $U(4,7)$ distribution. Let $X$ be the time that Rhonda will wait. \n",
    "\n",
    "**Part A**: What is the probability that $X$ is less than $4\\frac{1}{2}$ minutes? "
   ]
  },
  {
   "cell_type": "markdown",
   "metadata": {},
   "source": [
    "***\n",
    "**Solution**: \n",
    "The probability density function for $X$ is $$f(x) = \\begin{cases} \\dfrac{1}{7-4} = \\dfrac{1}{3} & \\text{for } ~ 4 \\leq x \\leq 7 \\\\ 0 & \\text{otherwise} \\end{cases}$$ \n",
    "\n",
    "The probability we're after is then \n",
    "\n",
    "$$\n",
    "P\\left(X \\leq 4\\frac{1}{2}\\right) \n",
    "= \\int_{-\\infty}^{4\\frac{1}{2}} \\frac{1}{3}~dx\n",
    "= \\int_{4}^{4\\frac{1}{2}} \\frac{1}{3}~dx\n",
    "= \\frac{1}{3} \\cdot \\left(4\\frac{1}{2} -4 \\right) = \\frac{1}{3}\\cdot\\frac{1}{2} = \\frac{1}{6} \n",
    "$$\n",
    "\n",
    "Note that since this is a uniform distribution we could have come to the same conclusion by noting that the total length of the interval is $3$ minutes and $\\frac{1}{2}$ minutes is $\\frac{1}{6}$ of $3$ minutes. \n",
    "\n",
    "***\n"
   ]
  },
  {
   "cell_type": "markdown",
   "metadata": {},
   "source": [
    "**Part B**: What is the probability that $X$ is exactly 5 minutes? "
   ]
  },
  {
   "cell_type": "markdown",
   "metadata": {},
   "source": [
    "***\n",
    "**Solution**: The probability $P(X = 5)$ is zero.  Remember that for continuous random variables, the probability that the random variable takes on a single value is always zero. \n",
    "***"
   ]
  },
  {
   "cell_type": "markdown",
   "metadata": {},
   "source": [
    "**Part C**: What is the probability that Rhonda ends up walking?  Try to formulate this problem in terms of the pdf and/or cdf of $X$."
   ]
  },
  {
   "cell_type": "markdown",
   "metadata": {},
   "source": [
    "***\n",
    "**Solution**: We know that Rhonda will walk if the bus takes longer than 5 minutes to arrive.  Thus we're interested in $P(X > 5)$.  Again, since $X$ is $U(4,7)$ we could note that Rhonda will walk if the bus arrives in the $2$ minutes between $5$ and $7$.  Since that is $\\frac{2}{3}$ of the $3$ minute time interval the probability is $\\frac{2}{3}$. \n",
    "\n",
    "We can also practice doing this with the definition of the density function.  We have \n",
    "\n",
    "$$\n",
    "P(X > 5) = P(5 < X \\leq 7) = \\int_5^7 \\frac{1}{3}~dx = \\frac{1}{3}\\left(7-5 \\right) = \\frac{2}{3}\n",
    "$$\n",
    "\n",
    "Finally, we can also practice using the cumulative distribution function itself.  For this problem we have \n",
    "\n",
    "$$\n",
    "F(X \\leq x) \n",
    "= \\int_{-\\infty}^x \\frac{1}{3}~dy \n",
    "= \\int_{4}^x \\frac{1}{3}~dy = \\frac{1}{3}\\left(x - 4\\right) \\textrm{ for } 4 \\leq x \\leq 7 \n",
    "$$\n",
    "\n",
    "Then, we have \n",
    "\n",
    "$$\n",
    "P(X > 5) = 1 - P(X \\leq 5) = 1 - F(5) = 1 - \\frac{1}{3}\\left(5 - 4\\right) = 1 - \\frac{1}{3} = \\frac{2}{3}\n",
    "$$\n",
    "\n",
    "***"
   ]
  },
  {
   "cell_type": "markdown",
   "metadata": {},
   "source": [
    "### Exercise 2 - Darts and Probabilities \n",
    "*** \n",
    "\n",
    "Suppose you are throwing darts at a dart board of radius $R$. Let $X$ be a random variable that measures the distance between the center of the dart board and the place that your dart lands.  Suppose that you're passable at darts, so you never miss the board entirely.    \n",
    "\n",
    "**Part A**: Based on the assumptions above, and some common sense, what are the values that the random variable $X$ can take on? "
   ]
  },
  {
   "cell_type": "markdown",
   "metadata": {},
   "source": [
    "***\n",
    "**Solution**: We know that $X$ cannot take on negative values because distances can't be negative, so we have $X \\geq 0$.  Further, we've assumed that you always hit the dart board, so we must have $X \\leq R$.  Thus the admissible values for $X$ are $0 \\leq X \\leq R$.\n",
    "***"
   ]
  },
  {
   "cell_type": "markdown",
   "metadata": {},
   "source": [
    "**Part B**: Consider the cumulative distribution function $F(x)$ for the scenario above.  \n",
    "\n",
    "First, convince yourself that the following are true: \n",
    "\n",
    "$$\n",
    "F(x) = P(X \\leq x) = 0 \\textrm{ for } x < 0 \n",
    "\\quad \\textrm{and} \\quad \n",
    "F(x) = P(X \\leq x) = 1 \\textrm{ for } x \\geq R \n",
    "$$\n",
    "\n",
    "It might help to do a quick **concept check** and see if you can explain in plain English what these mathematical statements mean.\n",
    "\n",
    "Now, we need to define the distribution function for the $x$'s on the actual dart board.  Suppose that the probability of hitting _within_ a particular distance $x$ from the center is proportional to the area of the board from the center to the edge of a ring of radius $x$.  Based on this assumption, write down the definition of $F(x)$ for $0 \\leq x \\leq R$. "
   ]
  },
  {
   "cell_type": "markdown",
   "metadata": {},
   "source": [
    "***\n",
    "**Solution**: The assumptions tell us that $P(X \\leq x)$ must be proportional to the area of the ring of radius $x$ centered at the center of the dart board.  Thus we must have \n",
    "\n",
    "$$\n",
    "F(x) = P(X \\leq x) = c\\cdot \\pi x^2\n",
    "$$\n",
    "\n",
    "We need to choose $c$ such that $F(R) = 1$, since by assumption we always hit inside the dart board.  We then see that the form of the distribution function is  \n",
    "\n",
    "$$\n",
    "F(x) = P(X \\leq x) = \\frac{\\pi x^2}{\\pi R^2} = \\frac{x^2}{R^2} \\quad \\textrm{ for } 0 \\leq x \\leq R\n",
    "$$\n",
    "\n",
    "***"
   ]
  },
  {
   "cell_type": "markdown",
   "metadata": {},
   "source": [
    "**Part C**: Use the cumulative distribution function $F(x)$ you found in **Part B** to define the probability density function $f(x)$ for the random variable $X$. "
   ]
  },
  {
   "cell_type": "markdown",
   "metadata": {},
   "source": [
    "***\n",
    "**Solution**: We know that the density function is the derivative of the distribution function.  We thus have \n",
    "\n",
    "$$\n",
    "f(x) = \\frac{d}{dx}F(x) = \\frac{2x}{R^2} \\quad \\textrm{ for } \\quad 0 \\leq x \\leq R \\quad \\textrm{ and } \\quad f(x) = 0 \\textrm{ elsewhere}\n",
    "$$\n",
    "\n",
    "***"
   ]
  },
  {
   "cell_type": "markdown",
   "metadata": {},
   "source": [
    "**Part D**: Compute the probability that your dart lands within half the radius of the dart board (i.e. $0 \\leq X \\leq \\frac{R}{2}$) as well as the probability that your dart lands outside of half the radius of the dart board (i.e. $\\frac{R}{2} < X \\leq R$.)"
   ]
  },
  {
   "cell_type": "markdown",
   "metadata": {},
   "source": [
    "***\n",
    "**Solution**: It's probably easier to use the distribution function $F(x)$ here.  We have \n",
    "\n",
    "$$\n",
    "P\\left(0 \\leq X \\leq \\frac{R}{2}\\right) = P\\left(X \\leq \\frac{R}{2}\\right) = F\\left(\\frac{R}{2}\\right) = \\frac{(\\frac{R}{2})^2}{R^2} = \\frac{1}{4}\n",
    "$$\n",
    "\n",
    "Similarly, we have \n",
    "\n",
    "$$\n",
    "P\\left(\\frac{R}{2} < X \\leq R\\right) = 1 - P\\left(X \\leq \\frac{R}{2}\\right) = 1 - F\\left(\\frac{R}{2}\\right) = 1 - \\frac{(\\frac{R}{2})^2}{R^2} = 1 -\\frac{1}{4} = \\frac{3}{4}\n",
    "$$\n",
    "\n",
    "\n",
    "***"
   ]
  },
  {
   "cell_type": "markdown",
   "metadata": {},
   "source": [
    "**Part E**: Finally, find the distance away from the center such that $50\\%$ of all darts will land within this distance.  Or, said another way, find the $50$th percentile of the distribution of $X$.   "
   ]
  },
  {
   "cell_type": "markdown",
   "metadata": {},
   "source": [
    "***\n",
    "**Solution**: We can find the 50th percentile by setting the distribution function equal to $0.5$ and solving for $x$.  We have \n",
    "\n",
    "$$\n",
    "F(x) = \\frac{x^2}{R^2} = \\frac{1}{2} \n",
    "\\quad \\Rightarrow \\quad\n",
    "x^2 = \\frac{R^2}{2} \n",
    "\\quad \\Rightarrow \\quad\n",
    "x = \\frac{R}{\\sqrt{2}} \n",
    "$$\n",
    "\n",
    "Thus, according to our definition of the distribution of $X$, 50% of darts will land within $R / \\sqrt{2}$ units of the center. \n",
    "\n",
    "***"
   ]
  },
  {
   "cell_type": "markdown",
   "metadata": {},
   "source": [
    "### Exercise 3 - Sampling the Normal Distribution \n",
    "*** \n",
    "\n",
    "Let's first explore the normal distribution [here](https://academo.org/demos/gaussian-distribution/). Experiment with changing the parameters. What are the effects of:\n",
    "- changing $\\mu$?\n",
    "- changing $\\sigma$?\n",
    "\n",
    "Recall that the PDF of a normal distribution is:\n",
    "\n",
    "$$P(x; \\mu, \\sigma) = \\frac{1}{\\sigma \\sqrt{2 \\pi}} e^{- \\frac{1}{2}\\left(\\frac{x-\\mu}{\\sigma} \\right)^2}$$\n",
    "\n",
    "- Why is it important that $\\sigma$ is in two places in this density function?"
   ]
  },
  {
   "cell_type": "markdown",
   "metadata": {},
   "source": [
    "** Answer:**\n",
    "- Changing $\\mu$ shifts the PDF to the left or to the right. $\\mu$ appears to be the center of the distribution. \n",
    "\n",
    "- Changing $\\sigma$ makes the distribution wider (bigger $\\sigma$) or thinner (smaller $\\sigma$).\n",
    "\n",
    "- The $\\sigma$ in the exponential makes the distribution wider or thinner, but the $\\sigma$ out in front adjusts the height so that the PDF still integrates to one."
   ]
  },
  {
   "cell_type": "markdown",
   "metadata": {},
   "source": [
    "**Part A**: Write a function pdf_normal that takes in a Numpy array of $x$-values and the parameters $\\mu$ and $\\sigma$ and returns a numpy array representing the density function of the normal distribution evaluated at the specified $x$-values. \n",
    "\n",
    "Obviously, you could use Scipy's norm.pdf function, but the point here is to practice writing functions and working with these distributions by hand, yourself, without hiding all the fun science within canned routines and blackbox functions. It will make you **tough**, and that's the whole point, really."
   ]
  },
  {
   "cell_type": "code",
   "execution_count": 2,
   "metadata": {
    "collapsed": true
   },
   "outputs": [],
   "source": [
    "def pdf_normal(x, mu, sig):\n",
    "    return np.exp(-0.5*(((x-mu)/sig)**2)) / (sig*np.sqrt(2*np.pi))"
   ]
  },
  {
   "cell_type": "markdown",
   "metadata": {},
   "source": [
    "**Part B**: We can sample from a normal distribution using Numpy's [random.normal](https://docs.scipy.org/doc/numpy-1.13.0/reference/generated/numpy.random.normal.html#numpy.random.normal) function. Take a look at the docs, then write a function called compare_normal_sample_pdf that draws many samples from a normal distribution with the specified parameters and plots a density histogram of the samples overlaid by a plot of the density function you constructed in **Part A**.  Experiment with the number of samples as well as the histogram bin size.  How good of an approximation is the histogram to the true density function for varying numbers of samples and varying parameters of the normal distribution?  "
   ]
  },
  {
   "cell_type": "code",
   "execution_count": 3,
   "metadata": {
    "collapsed": true
   },
   "outputs": [],
   "source": [
    "def compare_normal_sample_pdf(mu, sig, num_samples=int(1e3)):\n",
    "    \n",
    "    # draw num_samples samples from N(mu, sig**2)\n",
    "    z = pd.Series(np.random.normal(mu, sig, size=num_samples))\n",
    "    \n",
    "    fig, ax = plt.subplots(nrows=1, ncols=1, figsize=(12,6))\n",
    "    \n",
    "    # draw histogram \n",
    "    z.hist(ax=ax, normed=True, color=\"gray\", bins=30, edgecolor=\"white\", alpha=0.75)\n",
    "    \n",
    "    # draw probability density function \n",
    "    a, b = np.min(z), np.max(z)\n",
    "    x = np.linspace(a, b, 300)\n",
    "    p = pdf_normal(x, mu, sig)\n",
    "    ax.plot(x, p, color=\"purple\", alpha=0.9, lw=3)\n",
    "    \n",
    "    # make pretty \n",
    "    ax.set_ylim([0,.6])\n",
    "    \n",
    "    ax.set_xlabel(r\"$x$\", fontsize=16)\n",
    "    ax.set_ylabel(\"Density\", fontsize=16)\n",
    "    \n",
    "    ax.grid(alpha=0.25)\n",
    "    ax.set_axisbelow(True)\n",
    "    \n",
    "    ax.spines[\"top\"].set_visible(False)\n",
    "    ax.spines[\"right\"].set_visible(False)"
   ]
  },
  {
   "cell_type": "code",
   "execution_count": 4,
   "metadata": {},
   "outputs": [
    {
     "data": {
      "image/png": "[encoded data removed]",
      "text/plain": [
       "<matplotlib.figure.Figure at 0x10abd4550>"
      ]
     },
     "metadata": {},
     "output_type": "display_data"
    }
   ],
   "source": [
    "compare_normal_sample_pdf(2, 1, num_samples=int(1e5))"
   ]
  },
  {
   "cell_type": "markdown",
   "metadata": {},
   "source": [
    "Looks pretty good to me! "
   ]
  },
  {
   "cell_type": "markdown",
   "metadata": {},
   "source": [
    "### Exercise 4 - Sampling the Exponential Distributions \n",
    "*** \n",
    "\n",
    "**Part A**: Write a function pdf_exp that takes as inputs a Numpy array of $x$-values and the rate parameter $\\lambda$ and returns a Numpy array of the exponential distribution density function sampled at the $x$-values. \n",
    "\n",
    "Again, the point is not whether or not you can call a blackbox function in Scipy, but rather that you can implement the pdf for the exponential distribution by hand."
   ]
  },
  {
   "cell_type": "code",
   "execution_count": 5,
   "metadata": {
    "collapsed": true
   },
   "outputs": [],
   "source": [
    "def pdf_exp(x, lam):\n",
    "    return lam * np.exp(-lam*x)"
   ]
  },
  {
   "cell_type": "markdown",
   "metadata": {},
   "source": [
    "**Part B**: We can sample from an exponential distribution using Numpy's [random.exponential](https://docs.scipy.org/doc/numpy-1.13.0/reference/generated/numpy.random.exponential.html) function. If you read the docs, you'll notice that random.exponential takes as it's input the so-called scale parameter $\\beta$ which is defined to be the inverse of the rate parameter $\\lambda$.  \n",
    "\n",
    "Write a function called compare_exp_sample_pdf that draws many samples from an exponential distribution with the specified parameter and plots a density histogram of the samples overlaid by a plot of the density function you constructed in **Part A**.  Experiment with the number of samples as well as the histogram bin size.  How good of an approximation is the histogram to the true density function for varying numbers of samples and varying parameters of the exponential distribution?  "
   ]
  },
  {
   "cell_type": "code",
   "execution_count": 6,
   "metadata": {
    "collapsed": true
   },
   "outputs": [],
   "source": [
    "def compare_exp_sample_pdf(lam, num_samples=int(1e3)):\n",
    "    \n",
    "    # draw num_samples samples from the Exp(lam)\n",
    "    beta = 1/lam \n",
    "    z = pd.Series(np.random.exponential(beta, size=num_samples))\n",
    "    \n",
    "    fig, ax = plt.subplots(nrows=1, ncols=1, figsize=(12,6))\n",
    "    \n",
    "    # draw histogram \n",
    "    z.hist(ax=ax, normed=True, color=\"gray\", bins=30, edgecolor=\"white\", alpha=0.75)\n",
    "    \n",
    "    # draw probability density function \n",
    "    T = np.max(z)\n",
    "    x = np.linspace(0, T, 300)\n",
    "    p = pdf_exp(x, lam)\n",
    "    ax.plot(x, p, color=\"purple\", alpha=0.9, lw=3)\n",
    "    \n",
    "    # make pretty \n",
    "    ymax = 1 if np.max(p) < .75 else np.max(p)\n",
    "    ax.set_ylim([0,ymax])\n",
    "    \n",
    "    ax.set_xlabel(r\"$x$\", fontsize=16)\n",
    "    ax.set_ylabel(\"Density\", fontsize=16)\n",
    "    \n",
    "    ax.grid(alpha=0.25)\n",
    "    ax.set_axisbelow(True)\n",
    "    \n",
    "    ax.spines[\"top\"].set_visible(False)\n",
    "    ax.spines[\"right\"].set_visible(False)"
   ]
  },
  {
   "cell_type": "code",
   "execution_count": 7,
   "metadata": {},
   "outputs": [
    {
     "data": {
      "image/png": "[encoded data removed]",
      "text/plain": [
       "<matplotlib.figure.Figure at 0x118b52b38>"
      ]
     },
     "metadata": {},
     "output_type": "display_data"
    }
   ],
   "source": [
    "compare_exp_sample_pdf(1, num_samples=int(1e5))"
   ]
  },
  {
   "cell_type": "markdown",
   "metadata": {},
   "source": [
    "Looks pretty good again! "
   ]
  },
  {
   "cell_type": "code",
   "execution_count": null,
   "metadata": {
    "collapsed": true
   },
   "outputs": [],
   "source": []
  }
 ],
 "metadata": {
  "kernelspec": {
   "display_name": "Python 3",
   "language": "python",
   "name": "python3"
  },
  "language_info": {
   "codemirror_mode": {
    "name": "ipython",
    "version": 3
   },
   "file_extension": ".py",
   "mimetype": "text/x-python",
   "name": "python",
   "nbconvert_exporter": "python",
   "pygments_lexer": "ipython3",
   "version": "3.6.5"
  }
 },
 "nbformat": 4,
 "nbformat_minor": 2
}
