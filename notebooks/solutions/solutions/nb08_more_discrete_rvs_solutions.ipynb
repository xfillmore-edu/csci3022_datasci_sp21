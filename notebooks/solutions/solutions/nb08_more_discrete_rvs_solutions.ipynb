{
 "cells": [
  {
   "cell_type": "markdown",
   "metadata": {},
   "source": [
    "# Notebook 8: More Discrete Random Variables and More Distributions \n",
    "***\n",
    "\n",
    "In this notebook we'll get some more practice identifying and working with the Binomial, Negative Binomial, Geometric, and Poisson distributions. \n",
    "\n",
    "We'll need Numpy and Matplotlib for this notebook, so let's load them.  We'll also probably need SciPy's binom function for computing binomial coefficients as well as Python's factorial function.  "
   ]
  },
  {
   "cell_type": "code",
   "execution_count": 1,
   "metadata": {
    "collapsed": true
   },
   "outputs": [],
   "source": [
    "import numpy as np \n",
    "import matplotlib.pylab as plt \n",
    "from scipy.special import binom\n",
    "from math import factorial \n",
    "%matplotlib inline"
   ]
  },
  {
   "cell_type": "markdown",
   "metadata": {},
   "source": [
    "### Exercise 1 - Defective Hard Drives \n",
    "*** \n",
    "\n",
    "A factory manufactures sold state hard drives for Seagate Technology.  Approximately $4\\%$ of hard drives that come off of a particular assembly line are defective. For each of the scenarios below: \n",
    "\n",
    "1. Define an appropriate random variable and distribution for the experiment. \n",
    "2. State the values that the random variable can take on. \n",
    "3. Find the probability that the random variable takes on the value $X = 3$. \n",
    "4. State any assumptions that you need to make \n",
    "\n",
    "**Part A**: Out of 20 drives, $k$ of them are defective. "
   ]
  },
  {
   "cell_type": "markdown",
   "metadata": {},
   "source": [
    "**Solution:**\n",
    "\n",
    "1.  If we define success as finding a defective drive, then we're looking for a random variable describing the number of successes in 20 trials.  That is a **binomial distribution** with parameters $n=20$ and $p=0.04$ (where a \"success\" is a defective hard drive).  So, we have $X \\sim Bin(20, 0.04)$.\n",
    "\n",
    "2.  The random variable $X$ can take on the values of $k=0, 1, 2, \\ldots, 20$.\n",
    "\n",
    "3.  $P(X=3) = {20 \\choose 3} \\cdot 0.04^3 \\cdot (1-0.04)^{20-3} \\approx 0.036$\n",
    "\n",
    "4.  For the binomial distribution, we assume (1) that the production of each drive is independent from all the others (that one drive's defects do not affect other drives' defects), and (2) the probability of defects is constant at $p=0.04$ (that this probability does not change with time)."
   ]
  },
  {
   "cell_type": "markdown",
   "metadata": {},
   "source": [
    "**Part B**: The number of defective drives made that day, where the rate of defective parts per day is 10. "
   ]
  },
  {
   "cell_type": "markdown",
   "metadata": {},
   "source": [
    "**Solution:**\n",
    "\n",
    "1.  Given that the average rate of defective drives is 10 drives/day, we can model the number of ***hits***, or defective drives, using a Poisson distribution.  If we let the random variable $X$ represent the number of defective drives in a 1-day period, then that is $X \\sim Pois(10)$, with rate $\\mu = 10$ drives/day.\n",
    "\n",
    "2.  The random variable $X$ can take values of $k = 0, 1, 2, \\ldots$ (with no theoretical upper bound)\n",
    "\n",
    "3.  $P(X=3) = \\dfrac{10^3 \\cdot e^{-10}}{3!} \\approx 0.00757$\n",
    "\n",
    "4.  For the Poisson distribution, we assume that the average rate of 10 defective drives per day is constant, and that each drive's probability of being defective is independent of other drives."
   ]
  },
  {
   "cell_type": "markdown",
   "metadata": {},
   "source": [
    "**Part C**: While we observe the assembly line, the first defective drive observed is the $k$th drive observed overall."
   ]
  },
  {
   "cell_type": "markdown",
   "metadata": {},
   "source": [
    "**Solution:**\n",
    "\n",
    "1.  This is a **Geometric** distribution -- we want to know $X = $ how many drives we have inspected when we find our first defective drive.  Since the probability of finding a defective drive is $p=0.04$, we have $X \\sim Geo(0.04)$.\n",
    "\n",
    "2. The random variable $X$ can take on values of $k = 1, 2, \\ldots$\n",
    "\n",
    "3. $P(X=3) = (1-0.04)^{3-1} \\cdot (0.04) \\approx 0.0369$\n",
    "\n",
    "4. For $X$ to be Geometric, we needed to assume that each drive's probability of being defective is independent of the other drives, and that the probability of a defective drive is constant at $p=0.04$."
   ]
  },
  {
   "cell_type": "markdown",
   "metadata": {},
   "source": [
    "**Part D**: While we observe the assembly line, the third defective drive observed is the $k$th drive observed overall."
   ]
  },
  {
   "cell_type": "markdown",
   "metadata": {},
   "source": [
    "**Solution:**\n",
    "\n",
    "1. We want to know how many drives we have inspected when we find our third defective drive. This is a **negative binomial** distribution.  Since the probability of finding a defective drive is $p=0.04$, we have $X \\sim NB(3, 0.04)$.\n",
    "\n",
    "2. The random variable $X$ can take on values of $k=3, 4, \\ldots$\n",
    "\n",
    "3. $P(X=3) = {3-1 \\choose 3-1} \\cdot (0.04)^3 \\cdot (1-0.04)^{3-3} \\approx 6.4 \\times 10^{-5}$\n",
    "\n",
    "4. For the random variable to be negative binomial, we need to assume that the probability of each drive being defective is independent of the other drives, and that the probability of any drive being defective is constant at $p=0.04$"
   ]
  },
  {
   "cell_type": "markdown",
   "metadata": {},
   "source": [
    "### Exercise 2 - Winning Concert Tickets \n",
    "*** \n",
    "\n",
    "You and a friend want to go to a concert, but unfortunately only one ticket is still available. The man who sells the tickets decides to toss a coin until heads appears. In each toss heads appears with probability $p$, where $0 < p < 1$, independent of each of the previous tosses. If the number of tosses needed is odd, your friend is allowed to buy the ticket; otherwise you can buy it. Would you agree to this arrangement?\n",
    "\n",
    "**Part A**: What discrete distribution would be useful in solving this problem? "
   ]
  },
  {
   "cell_type": "markdown",
   "metadata": {},
   "source": [
    "**Solution:**\n",
    "\n",
    "We are trying to figure out the probability of $k$ trials before our first \"success\" (Heads), so a **geometric** distribution would be useful, with parameter $p$."
   ]
  },
  {
   "cell_type": "markdown",
   "metadata": {},
   "source": [
    "**Part B**: In a minute we'll compute the approximate probability that you win the concert tickets, but before doing so, can you solve this problem by intuition (and a small amount of math)? "
   ]
  },
  {
   "cell_type": "markdown",
   "metadata": {},
   "source": [
    "**Solution:**\n",
    "\n",
    "The probabilities of the first Heads coming up on the first, second, third, etc. toss are:\n",
    "$$p, (1-p)p, (1-p)^2 p, (1-p)^3 p, \\ldots$$\n",
    "\n",
    "Your friend's probability of winning is the sum of the odd-numbered elements of that sequence:\n",
    "\n",
    "$$\\begin{align*}\n",
    "p_F &= p + (1-p)^2 p + (1-p)^4 p + \\ldots \\\\\n",
    "    &= p \\sum_{k=0}^{\\infty} (1-p)^{2k} ~~~~~\\text{geometric series with $r=(1-p)^2$}\\\\\n",
    "    &= p \\dfrac{1}{1-(1-p)^2} \\\\\n",
    "    &= \\dfrac{p}{1-(1-2p+p^2)} \\\\\n",
    "    &= \\dfrac{p}{2p-p^2} \\\\\n",
    "    &= \\dfrac{1}{2-p}\n",
    "\\end{align*}$$\n",
    "\n",
    "Now, if you are confident in this calculation, you can say that the probability of you winning is $p_Y = 1-p_F$.  This is a great way to check our actual work, which is below!\n",
    "\n",
    "$$\\begin{align*}\n",
    "p_y &= (1-p) p + (1-p)^3 p + (1-p)^5 p + \\ldots \\\\\n",
    "    &= p(1-p) \\sum_{k=0}^{\\infty} (1-p)^{2k} ~~~~~\\text{geometric series with $r=(1-p)^2$}\\\\\n",
    "    &= p(1-p) \\dfrac{1}{1-(1-p)^2} \\\\\n",
    "    &= \\dfrac{p(1-p)}{2p-p^2} \\\\\n",
    "    &= \\dfrac{1-p}{2-p}\n",
    "\\end{align*}$$\n",
    "\n",
    "And to check that the two of these add up to 1:\n",
    "\n",
    "$$\\begin{align*}\n",
    "p_F + p_Y &= \\dfrac{1}{2-p} + \\dfrac{1-p}{2-p} \\\\\n",
    "          &= \\dfrac{1+1-p}{2-p} \\\\\n",
    "          &= \\dfrac{2-p}{2-p} = 1 ~~~~\\checkmark \\\\\n",
    "\\end{align*}$$\n",
    "\n",
    "Anyway, if we look at $p_F$ and $p_Y$, the denominators are the same, but the numerator of $p_Y$ is less than that of $p_F$.  So, it is **not a good deal for you.**"
   ]
  },
  {
   "cell_type": "markdown",
   "metadata": {},
   "source": [
    "**Part C**: Write a Python function that takes in the probability of heads on the coin and returns the probability mass function of the random variable described above.  You can safely assume that nobody wants to stick around for more than 100 coin flips, so only consider up to and including the 100th coin flip.  So, the output of this function should be an array or list of length 100."
   ]
  },
  {
   "cell_type": "code",
   "execution_count": 2,
   "metadata": {
    "collapsed": true
   },
   "outputs": [],
   "source": [
    "def pmf_geo(p):\n",
    "    \n",
    "    n_max = 100\n",
    "    pmf = np.array([p*((1-p)**(k-1)) for k in range(1, n_max+1)])\n",
    "    \n",
    "    return pmf "
   ]
  },
  {
   "cell_type": "markdown",
   "metadata": {},
   "source": [
    "**Part D**: Use the function you wrote in **Part C** to estimate the probabilities that your friend or you win the ticket for different values of the bias of the coin.  Use $p = 0.25$, $~p = 0.5$, and $p = 0.75$. "
   ]
  },
  {
   "cell_type": "code",
   "execution_count": 3,
   "metadata": {},
   "outputs": [
    {
     "name": "stdout",
     "output_type": "stream",
     "text": [
      "For p=0.25, P(Friend wins)=0.57 vs P(You win)=0.43\n",
      "For p=0.5, P(Friend wins)=0.67 vs P(You win)=0.33\n",
      "For p=0.75, P(Friend wins)=0.80 vs P(You win)=0.20\n"
     ]
    }
   ],
   "source": [
    "# Solution:\n",
    "\n",
    "p = 0.25\n",
    "print(\"For p={}, P(Friend wins)={:.2f} vs P(You win)={:.2f}\".format(p,np.sum(pmf_geo(p)[::2]),np.sum(pmf_geo(p)[1::2])))\n",
    "\n",
    "p = 0.5\n",
    "print(\"For p={}, P(Friend wins)={:.2f} vs P(You win)={:.2f}\".format(p,np.sum(pmf_geo(p)[::2]),np.sum(pmf_geo(p)[1::2])))\n",
    "\n",
    "p = 0.75\n",
    "print(\"For p={}, P(Friend wins)={:.2f} vs P(You win)={:.2f}\".format(p,np.sum(pmf_geo(p)[::2]),np.sum(pmf_geo(p)[1::2])))"
   ]
  },
  {
   "cell_type": "markdown",
   "metadata": {},
   "source": [
    "### Exercise 3 - Implementing and Sampling the Geometric Distribution \n",
    "***\n",
    "\n",
    "**Part A**: Write a function flips_until_heads that simulates the coin slipping scenario in **Exercise 2**. Your function should take as its sole argument the probability $p$ of flipping Heads for the coin and return the number of flips observed when you find your first Heads.  "
   ]
  },
  {
   "cell_type": "code",
   "execution_count": 39,
   "metadata": {
    "collapsed": true
   },
   "outputs": [],
   "source": [
    "coin = np.array([\"H\", \"T\"])\n",
    "\n",
    "def flips_until_heads(p):\n",
    "    counter = 0\n",
    "    heads = False\n",
    "    while(~heads):\n",
    "        heads = np.random.choice(coin, p=[p, 1-p], size=1)==\"H\"\n",
    "        counter += 1\n",
    "    return counter"
   ]
  },
  {
   "cell_type": "markdown",
   "metadata": {},
   "source": [
    "**Part B**: Now, run many trials of the experiment and count how many trials result in each value of the random variable.  Make a _density_ histogram of the results, using $p=0.25$. "
   ]
  },
  {
   "cell_type": "code",
   "execution_count": 62,
   "metadata": {},
   "outputs": [
    {
     "data": {
      "image/png": "[encoded data removed]",
      "text/plain": [
       "<matplotlib.figure.Figure at 0x1171e4c88>"
      ]
     },
     "metadata": {},
     "output_type": "display_data"
    }
   ],
   "source": [
    "# Solution:\n",
    "\n",
    "sample = [flips_until_heads(0.25) for k in range(10000)]\n",
    "\n",
    "bins = np.arange(0.5, 50.5, 1)\n",
    "plt.hist(sample, edgecolor=\"white\", bins=bins, normed=True)\n",
    "plt.xticks(range(1,50))\n",
    "plt.xlim([0,20])\n",
    "plt.xlabel('Flips before first Heads')\n",
    "plt.ylabel('Density')\n",
    "plt.show()"
   ]
  },
  {
   "cell_type": "markdown",
   "metadata": {},
   "source": [
    "**Part C**: Use the function you wrote in **Exercise 2** to make a bar plot of the probability mass function of $X$.  Does it look like the density histogram from **Part B**?  If not, run your simulation in **Part B** for more trials.  Does the situation improve?  Again, use $p=0.25$ in your codes."
   ]
  },
  {
   "cell_type": "code",
   "execution_count": 68,
   "metadata": {},
   "outputs": [
    {
     "data": {
      "image/png": "[encoded data removed]",
      "text/plain": [
       "<matplotlib.figure.Figure at 0x1175ec9b0>"
      ]
     },
     "metadata": {},
     "output_type": "display_data"
    }
   ],
   "source": [
    "# Solution:\n",
    "\n",
    "p = 0.25\n",
    "\n",
    "# get the pmf from the Exercise 2 function\n",
    "pmf = pmf_geo(p)\n",
    "\n",
    "plt.bar(range(1,len(pmf)+1), pmf)\n",
    "plt.xticks(range(1,50))\n",
    "plt.xlim([0,20])\n",
    "plt.xlabel('Flips before first Heads')\n",
    "plt.ylabel('pmf')\n",
    "plt.show()"
   ]
  },
  {
   "cell_type": "markdown",
   "metadata": {},
   "source": [
    "Why, the two of them look pretty darn similar!  Yay!"
   ]
  },
  {
   "cell_type": "markdown",
   "metadata": {},
   "source": [
    "### Exercise 4 - Predicting Space Shuttle Disasters \n",
    "***\n",
    "\n",
    "The space shuttle _Challenger_ disaster occurred in January 1986 when one of six O-rings failed and caused the main fuel tank to explode.  The failure of the O-ring was likely due to the low temperature at the time of the launch.  Further analysis shows that the probability of an O-ring failure as a function of temperature is given by \n",
    "\n",
    "$$\n",
    "p(T) = \\frac{e^{a+bT}}{1 + e^{a+bT}}\n",
    "$$\n",
    "\n",
    "where $a = 5.085$ and $b = -0.1156$, and $T$ is the temperature (in degrees Fahrenheit) at the time of the launch of the shuttle. At the time of the _Challenger_ launch the temperature was $T=31$, corresponding to a probability of O-ring failure of $p(31) = 0.8178$. \n",
    "\n",
    "**Part A**: Let $X$ be the number of failing O-rings at launch temperature $31^{\\circ} F$.  Assume that the failure of each of the six O-rings is independent. What type of probability distribution does $X$ have, and what are the values of its parameters? "
   ]
  },
  {
   "cell_type": "markdown",
   "metadata": {},
   "source": [
    "**Solution:**\n",
    "\n",
    "With $T=31$, we have $p(31) \\approx 0.8178$.\n",
    "\n",
    "$X$ is a random variable representing the number of failed O-rings out of 6 \"trials\".  This is described by a **Binomial distribution** with parameters $n=6$ and $p=0.8178$.  $X$ can take on the values $k=0, 1, 2, \\ldots, 6$."
   ]
  },
  {
   "cell_type": "markdown",
   "metadata": {},
   "source": [
    "**Part B**: Calculate (by hand) the probability $P(X \\geq 1)$ that at least one O-ring fails."
   ]
  },
  {
   "cell_type": "markdown",
   "metadata": {},
   "source": [
    "**Solution:**\n",
    "\n",
    "The probability that at least one O-ring fails is one minus the probability that zero O-rings fail.\n",
    "\n",
    "$$\\begin{align*}\n",
    "  P(X \\geq 1) &= 1 - P(X=0) \\\\\n",
    "              &= 1 - \\left[ {6 \\choose 0}\\cdot p^0 \\cdot (1-p)^6 \\right] \\\\\n",
    "              &= 1 - (1-0.8178)^6 \\\\\n",
    "              &= 0.99996\n",
    "\\end{align*}$$"
   ]
  },
  {
   "cell_type": "markdown",
   "metadata": {},
   "source": [
    "**Part C**:  Let us assume that all space shuttles will be launched at $81^{\\circ}F$.  With this temperature, the probability of an O-ring failure is equal to $p(81) = 0.0137$. \n",
    "\n",
    "What is the probability that during 23 launches no O-ring will fail, but that at least one O-ring will fail during the 24th launch of the space shuttle? "
   ]
  },
  {
   "cell_type": "markdown",
   "metadata": {},
   "source": [
    "**Solution:**\n",
    "\n",
    "There are a few ways to do this problem.  Here, we will tackle this by treating each of the launches as an independent Bernoulli trial with parameter $p$ equal to the probability that at least one O-ring fails.\n",
    "\n",
    "Then, we can let the random variable $X$ represent the number of launches that occur up to and including the first launch with at least one O-ring failure. So $X$ follows a **Geometric distribution** with parameter $p$, and we want to know what is $P(X=24)$.\n",
    "\n",
    "First, let's find $p$.  Let $Y$ be a Binomial random variable representing the number of O-rings that fail per launch. Then...\n",
    "\n",
    "$$\\begin{align*}\n",
    "  p &= P(Y \\geq 1) = 1- P(Y=0) \\\\\n",
    "    &= 1-(1-0.0137)^6 \\\\\n",
    "    &\\approx 0.0794\n",
    "\\end{align*}$$\n",
    " \n",
    "Now the Geometric distribution with $p$ gives us:\n",
    "\n",
    "$$\\begin{align*}\n",
    " P(X=24) &= (1-p)^23 \\cdot p \\\\\n",
    "         &= (1-0.0794)^23 \\cdot 0.0794 \\\\\n",
    "         &\\approx 0.01184\n",
    "\\end{align*}$$"
   ]
  },
  {
   "cell_type": "markdown",
   "metadata": {},
   "source": [
    "**Part D**: What is the probability that no O-ring fails during 24 launches? "
   ]
  },
  {
   "cell_type": "markdown",
   "metadata": {},
   "source": [
    "**Solution:**\n",
    "\n",
    "This can be thought of as $Z$, a binomial random variable with parameters $n=24$ and $p=0.0794$.  And we want the probability of zero \"hits\" (O-ring failures), which occur with probability $p$.\n",
    "\n",
    "$$P(Z=0) = {24 \\choose 0} \\cdot 0.0794^0 \\cdot (1-0.0794)^24 \\approx 0.1372$$"
   ]
  }
 ],
 "metadata": {
  "kernelspec": {
   "display_name": "Python 3",
   "language": "python",
   "name": "python3"
  },
  "language_info": {
   "codemirror_mode": {
    "name": "ipython",
    "version": 3
   },
   "file_extension": ".py",
   "mimetype": "text/x-python",
   "name": "python",
   "nbconvert_exporter": "python",
   "pygments_lexer": "ipython3",
   "version": "3.6.4"
  }
 },
 "nbformat": 4,
 "nbformat_minor": 2
}
