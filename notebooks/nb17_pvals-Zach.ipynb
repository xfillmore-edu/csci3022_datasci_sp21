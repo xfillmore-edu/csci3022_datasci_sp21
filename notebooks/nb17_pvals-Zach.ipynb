{
 "cells": [
  {
   "cell_type": "markdown",
   "metadata": {},
   "source": [
    "# Notebook 17: Introduction to P-Values\n",
    "***\n",
    "\n",
    "We'll need Numpy, Matplotlib, and scipy.stats for this notebook, so let's load them. "
   ]
  },
  {
   "cell_type": "code",
   "execution_count": 5,
   "metadata": {},
   "outputs": [],
   "source": [
    "import numpy as np \n",
    "from scipy import stats\n",
    "import matplotlib.pylab as plt \n",
    "import pandas as pd\n",
    "%matplotlib inline"
   ]
  },
  {
   "cell_type": "markdown",
   "metadata": {},
   "source": [
    "### Exercise 1 - Concept Check\n",
    "*** \n",
    "\n",
    "Suppose there is a random variable $X$ with a **triangular distribution** $f(x)$ given by\n",
    "\n",
    "$f(x) =\n",
    "\\begin{cases} cx & 0 \\leq x \\leq \\dfrac{1}{2} \\\\\n",
    "              c(1-x) & \\dfrac{1}{2} \\leq x \\leq 1 \\\\\n",
    "              0 & \\text{otherwise}\n",
    "\\end{cases}$\n",
    "\n",
    "where $c$ is some normalizing constant.\n",
    "\n",
    "**Part A:** What value should $c$ have in order for $f(x)$ to be a proper probability density function?"
   ]
  },
  {
   "cell_type": "code",
   "execution_count": null,
   "metadata": {},
   "outputs": [],
   "source": []
  },
  {
   "cell_type": "markdown",
   "metadata": {},
   "source": [
    "**Part B:** Suppose you wish to test the hypothesis that the mean of the distribution for $X$ is equal to $1/2$ against the alternative hypothesis that this mean is *not* equal to $1/2$. You collect some data for $X$ and find a test statistic $\\hat{X} = 3/4$.\n",
    "\n",
    "Recall the a p-value is the probability of observing a test statistic as extreme or more extreme than our measurement (which is $3/4$ here). \"More extreme\" than our test statistic means anything equally or less likely to observe than $3/4$: so, $X \\geq 3/4$ and $X \\leq 1/4$. Sketch a picture to depict the p-value associated with our hypothesis test. Shade in the area that corresponds to the p-value. (Do this either on a piece of paper or by making a slick plot in Python below.)"
   ]
  },
  {
   "cell_type": "code",
   "execution_count": null,
   "metadata": {},
   "outputs": [],
   "source": []
  },
  {
   "cell_type": "markdown",
   "metadata": {},
   "source": [
    "**Part C:** Compute the p-value associated with our hypothesis test."
   ]
  },
  {
   "cell_type": "code",
   "execution_count": null,
   "metadata": {},
   "outputs": [],
   "source": []
  },
  {
   "cell_type": "markdown",
   "metadata": {},
   "source": [
    "### Exercise 2 - Estimating the Distribution of P-Values \n",
    "*** \n",
    "\n",
    "Suppose you have a population that is normally distributed with mean $\\mu_0$ and standard deviation $\\sigma$. In this problem you will simulate many draws from this distribution with a particular sample size and compute p-values for the alternate hypothesis that that $\\mu \\neq \\mu_0$. Finish the function below in order to sample `sample_size` number of p-values.\n",
    "\n",
    "Then, plot a histogram of the sampled p-values. Set the bin width to be equal to the significance level $\\alpha$. What can you say about the distribution of p-values in the case where the Null hypothesis is actually true?  About what proportion of the sampled p-values are such that $p \\leq \\alpha$?      "
   ]
  },
  {
   "cell_type": "code",
   "execution_count": null,
   "metadata": {},
   "outputs": [],
   "source": [
    "def pvalue_dist(num_tests=10000, sample_size=100, mu0=20, sig=2, alpha=0.05):\n",
    "    \n",
    "    fig, ax = plt.subplots(nrows=1, ncols=1, figsize=(12,4))\n",
    "    bins = np.linspace(0, 1, int(1/alpha))\n",
    "    \n",
    "pvalue_dist(sample_size=100)"
   ]
  },
  {
   "cell_type": "code",
   "execution_count": null,
   "metadata": {
    "collapsed": true
   },
   "outputs": [],
   "source": []
  },
  {
   "cell_type": "code",
   "execution_count": null,
   "metadata": {},
   "outputs": [],
   "source": []
  },
  {
   "cell_type": "code",
   "execution_count": 10,
   "metadata": {},
   "outputs": [
    {
     "data": {
      "image/png": "[encoded data removed]",
      "text/plain": [
       "<matplotlib.figure.Figure at 0x11cb1543080>"
      ]
     },
     "metadata": {},
     "output_type": "display_data"
    }
   ],
   "source": [
    "def pvalue_dist(num_tests=10000, sample_size=4, mu0=20, sig=2, alpha=0.05, muA=20):\n",
    "    \n",
    "    fig, ax = plt.subplots(nrows=1, ncols=1, figsize=(12,4))\n",
    "    bins = np.linspace(0, 1, int(1/alpha)+1)\n",
    "    ps = np.zeros(num_tests)\n",
    "    for ii in range(num_tests):\n",
    "        xbar = np.mean(stats.norm.rvs(muA,sig,size=sample_size))\n",
    "        z = (xbar-mu0)/(sig/np.sqrt(sample_size))\n",
    "        ps[ii] = 2*np.min([stats.norm.cdf(z), 1-stats.norm.cdf(z)])\n",
    "    pd.Series(ps).hist(ax=ax, color=\"steelblue\", edgecolor=\"white\", bins=bins, density=True)\n",
    "    ax.grid(alpha=0.25)\n",
    "    ax.set_axisbelow(True)\n",
    "    \n",
    "pvalue_dist(num_tests=int(1e4), sample_size=400, sig=200, muA=27)"
   ]
  },
  {
   "cell_type": "code",
   "execution_count": null,
   "metadata": {},
   "outputs": [],
   "source": []
  }
 ],
 "metadata": {
  "kernelspec": {
   "display_name": "Python 3",
   "language": "python",
   "name": "python3"
  },
  "language_info": {
   "codemirror_mode": {
    "name": "ipython",
    "version": 3
   },
   "file_extension": ".py",
   "mimetype": "text/x-python",
   "name": "python",
   "nbconvert_exporter": "python",
   "pygments_lexer": "ipython3",
   "version": "3.6.4"
  }
 },
 "nbformat": 4,
 "nbformat_minor": 2
}
