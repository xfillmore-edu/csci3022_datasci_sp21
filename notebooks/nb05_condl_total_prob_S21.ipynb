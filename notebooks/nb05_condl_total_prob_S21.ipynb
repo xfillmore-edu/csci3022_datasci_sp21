{
 "cells": [
  {
   "cell_type": "markdown",
   "metadata": {},
   "source": [
    "# Notebook 5: Simulation with Conditional and Total Probability Solutions\n",
    "***\n",
    "\n",
    "In this notebook we'll get some more practice with conditional probabilities, total probability, and the product rule.  We'll also see how we can do some simple random simulations using Numpy to verify our results. \n",
    "\n",
    "We'll need Numpy for this notebook, so let's load it.  You might also want to use Pandas too, so we'll load that one too."
   ]
  },
  {
   "cell_type": "code",
   "execution_count": 1,
   "metadata": {},
   "outputs": [],
   "source": [
    "import numpy as np \n",
    "import pandas as pd"
   ]
  },
  {
   "cell_type": "markdown",
   "metadata": {},
   "source": [
    "### Example - Estimating the Probability of Drawing Balls from Boxes\n",
    "***\n",
    "In class we computed solved the following problem: \n",
    "\n",
    "S’pose we have two boxes filled with green and red balls.  Box 1 contains 2 green balls and 7 red balls.  Box 2 contains 4 green balls and 3 red balls. Paul selects a ball by first choosing one of the two boxes at random. He then selects one of the balls in this box at random. What is the probability Paul has selected a red ball, if it is twice as likely for Paul to pick from Box 1 as it is Box 2?\n",
    "\n",
    "The following code runs a simple simulation to estimate the probability of drawing a ball of a particular color.  Run the code and verify that it agrees with the by-hand computation."
   ]
  },
  {
   "cell_type": "markdown",
   "metadata": {},
   "source": [
    "\\begin{align*}\n",
    "P(red) &= P(red|B1)P(B1) + P(red|B2)P(B2) \\\\\n",
    "          &= \\frac{7}{9} \\cdot \\frac{2}{3} + \\frac{3}{7} \\cdot \\frac{1}{3} \\\\\n",
    "          &= \\frac{14}{27}+\\frac{1}{7} \\\\\n",
    "          &\\approx 0.6614\n",
    "\\end{align*}"
   ]
  },
  {
   "cell_type": "code",
   "execution_count": 2,
   "metadata": {},
   "outputs": [],
   "source": [
    "box1 = {'balls' : np.array([\"green\", \"red\"]), 'probs' : np.array([2/9, 7/9])}\n",
    "box2 = {'balls' : np.array([\"green\", \"red\"]), 'probs' : np.array([4/7, 3/7])}\n",
    "box_choices = {'boxes' : np.array([box1, box2]), 'probs' : np.array([2/3, 1/3])}\n",
    "\n",
    "def sample_ball(box_choices):\n",
    "    # randomly choose a box\n",
    "    box = np.random.choice(box_choices['boxes'], p = box_choices['probs'])\n",
    "    # randomly choose a ball from that box\n",
    "    return np.random.choice(box['balls'], p = box['probs'])\n",
    "\n",
    "def probability_of_color(color, box_choices, num_samples=1000):\n",
    "    # get a bunch of balls\n",
    "    balls = np.array([sample_ball(box_choices) for ii in range(num_samples)])\n",
    "    # compute fraction of balls of desired color \n",
    "    return np.sum(balls == color) / num_samples"
   ]
  },
  {
   "cell_type": "code",
   "execution_count": 3,
   "metadata": {},
   "outputs": [
    {
     "data": {
      "text/plain": [
       "0.66232"
      ]
     },
     "execution_count": 3,
     "metadata": {},
     "output_type": "execute_result"
    }
   ],
   "source": [
    "probability_of_color(\"red\", box_choices, num_samples=50000)"
   ]
  },
  {
   "cell_type": "markdown",
   "metadata": {},
   "source": [
    "You should find something quite close to what we got in class, which is about 0.661."
   ]
  },
  {
   "cell_type": "markdown",
   "metadata": {},
   "source": [
    "### Exercise 1 - More Colors! \n",
    "*** \n",
    "\n",
    "Suppose now we add a third color to the mix.  Box 1 now contains 2 green balls, 7 red balls, and 5 purple balls.  Box 2 now contains 4 green balls, 3 red balls, and 5 purple balls.  The probability of grabbing the first box is still twice the probability of grabbing the second box.  \n",
    "\n",
    "**Part A**: What is the probability of drawing a purple ball?  Try working this out by hand."
   ]
  },
  {
   "cell_type": "markdown",
   "metadata": {
    "collapsed": true
   },
   "source": [
    "**Format your Probability Here**"
   ]
  },
  {
   "cell_type": "markdown",
   "metadata": {},
   "source": [
    "**Part B**: Next, copy and paste the code from the example above and modify it to estimate the probability that you just computed and check your work. "
   ]
  },
  {
   "cell_type": "code",
   "execution_count": 4,
   "metadata": {},
   "outputs": [],
   "source": [
    "#Grab your code from Example above and modify it here..."
   ]
  },
  {
   "cell_type": "code",
   "execution_count": 5,
   "metadata": {},
   "outputs": [
    {
     "data": {
      "text/plain": [
       "0.0"
      ]
     },
     "execution_count": 5,
     "metadata": {},
     "output_type": "execute_result"
    }
   ],
   "source": [
    "probability_of_color(\"purple\", box_choices, num_samples=50000)"
   ]
  },
  {
   "cell_type": "markdown",
   "metadata": {},
   "source": [
    "### Exercise 2 - Estimating Conditional Probabilities \n",
    "***\n",
    "\n",
    "Suppose you roll a fair die two times.  Let $A$ be the event \"the sum of the throws equals 4\" and $B$ be the event \"at least one of the throws is a $3$\"\n",
    "\n",
    "**Part A**: Compute (by hand) the probability that the sum of the throws equals 4 _given_ that at least one of the throws is a 3.  That is, compute $P(A \\mid B)$. "
   ]
  },
  {
   "cell_type": "markdown",
   "metadata": {},
   "source": [
    "**Insert your response here**"
   ]
  },
  {
   "cell_type": "markdown",
   "metadata": {},
   "source": [
    "**Part B**: Let's see if we can write a simple simulation to confirm our result.  The following code runs a simulation to estimate $P(A)$, i.e. the probability that if you roll a fair six-sided die twice the result will sum to 4.  Your job is to modify the code so that it estimates the conditional probability $P(A \\mid B)$. **Hint**: Think about the definition of conditional probability.\n",
    "\n",
    "*Hint:  the Numpy methods `logical_or` and `logical_and` are potentially useful.*"
   ]
  },
  {
   "cell_type": "code",
   "execution_count": 6,
   "metadata": {},
   "outputs": [
    {
     "name": "stdout",
     "output_type": "stream",
     "text": [
      "The probability of rolling a sum-to-four is approximately 0.084\n"
     ]
    }
   ],
   "source": [
    "die = np.array([1,2,3,4,5,6])\n",
    "\n",
    "num_samples = 100000\n",
    "roll1 = np.random.choice(die, size=num_samples)\n",
    "roll2 = np.random.choice(die, size=num_samples)\n",
    "sum_to_four = (roll1 + roll2) == 4\n",
    "\n",
    "sum_to_four_prob = np.sum(sum_to_four)/num_samples\n",
    "print(\"The probability of rolling a sum-to-four is approximately {:.3f}\".format(sum_to_four_prob))"
   ]
  },
  {
   "cell_type": "markdown",
   "metadata": {},
   "source": [
    "### Exercise 3 - The Ol' Marble Switcharoo\n",
    "***\n",
    "A marble is drawn at random from a bag containing one black and one white marble.  If the white marble is drawn it is put back into the bag.  If the black marble is drawn, it is returned to the bag along with two **more** black marbles.  Then a second draw is made. What is the probability a black marble was drawn on **both** the first and the second draws?  \n",
    "\n",
    "**Part A**: Let's do this one in reverse order.  First, see if you can write a simple simulation to estimate this probability. "
   ]
  },
  {
   "cell_type": "code",
   "execution_count": null,
   "metadata": {},
   "outputs": [],
   "source": []
  },
  {
   "cell_type": "markdown",
   "metadata": {},
   "source": [
    "**Part B**: Now carry out the computation by hand and see if they agree. "
   ]
  },
  {
   "cell_type": "code",
   "execution_count": null,
   "metadata": {},
   "outputs": [],
   "source": []
  },
  {
   "cell_type": "markdown",
   "metadata": {},
   "source": [
    "### Exercise 4 - Outcomes and Set Operations\n",
    "***\n",
    "Suppose we run an experiment we toss a coin 3 times.  The sample space for this experiment is \n",
    "\n",
    "$$\n",
    "\\Omega = \\{HHH, ~ THH, ~HTH, ~HHT, ~TTH, ~THT, ~HTT, ~TTT\\}\n",
    "$$\n",
    "\n",
    "**Part A**: Write down the set of outcomes corresponding to each of the following: \n",
    "1. $A$: \"we throw tails exactly two times\"\n",
    "2. $B$: \"we throw tails at least two times\"\n",
    "3. $C$: \"tails did not appear _before_ a head appeared\" \n",
    "4. $D$: \"the first throw results in tails\" \n"
   ]
  },
  {
   "cell_type": "code",
   "execution_count": null,
   "metadata": {},
   "outputs": [],
   "source": []
  },
  {
   "cell_type": "markdown",
   "metadata": {},
   "source": [
    "**Part B**: Write down the set of outcomes corresponding to each of the following events: \n",
    "1. $A^c$ \n",
    "2. $A \\cup (C \\cap D)$\n",
    "3. $A \\cap D^{~c}$"
   ]
  },
  {
   "cell_type": "code",
   "execution_count": null,
   "metadata": {},
   "outputs": [],
   "source": []
  },
  {
   "cell_type": "markdown",
   "metadata": {},
   "source": [
    "**Part C**: Finally, Let $E$ be the event that $A$ or $C$ occurs, but not both.  Express $E$ in terms of $A$ and $C$, using only the basic set operations \"union\", \"intersection\", and \"complement\".  Then list the set of outcomes from the experiment that are included in $E$. "
   ]
  },
  {
   "cell_type": "code",
   "execution_count": null,
   "metadata": {},
   "outputs": [],
   "source": []
  }
 ],
 "metadata": {
  "kernelspec": {
   "display_name": "Python 3",
   "language": "python",
   "name": "python3"
  },
  "language_info": {
   "codemirror_mode": {
    "name": "ipython",
    "version": 3
   },
   "file_extension": ".py",
   "mimetype": "text/x-python",
   "name": "python",
   "nbconvert_exporter": "python",
   "pygments_lexer": "ipython3",
   "version": "3.6.4"
  }
 },
 "nbformat": 4,
 "nbformat_minor": 2
}
