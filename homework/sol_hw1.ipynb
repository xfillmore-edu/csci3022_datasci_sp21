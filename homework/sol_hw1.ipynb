{
 "cells": [
  {
   "cell_type": "markdown",
   "metadata": {},
   "source": [
    "<a id='top'></a>\n",
    "\n",
    "# CSCI3022 S21\n",
    "# Homework 1: Measures of Centrality and Dispersion\n",
    "***\n",
    "\n",
    "**Name**: ________________________________________________________________________\n",
    "\n",
    "***\n",
    "\n",
    "This assignment is due on Canvas by **MIDNIGHT on Monday, February 1**. Your solutions to theoretical questions should be done in Markdown directly below the associated question.  Your solutions to computational questions should include any specified Python code and results as well as written commentary on your conclusions.  Remember that you are encouraged to discuss the problems with your classmates, but **you must write all code and solutions on your own**.\n",
    "\n",
    "**NOTES**: \n",
    "\n",
    "- Any relevant data sets should be available on Canvas. To make life easier on the graders if they need to run your code, do not change the relative path names here. Instead, move the files around on your computer.\n",
    "- If you're not familiar with typesetting math directly into Markdown then by all means, do your work on paper first and then typeset it later.  Here is a [reference guide](https://math.meta.stackexchange.com/questions/5020/mathjax-basic-tutorial-and-quick-reference) linked on Canvas on writing math in Markdown. **All** of your written commentary, justifications and mathematical work should be in Markdown.  I also recommend the [wikibook](https://en.wikibooks.org/wiki/LaTeX) for LaTex.\n",
    "- Because you can technically evaluate notebook cells is a non-linear order, it's a good idea to do **Kernel $\\rightarrow$ Restart & Run All** as a check before submitting your solutions.  That way if we need to run your code you will know that it will work as expected. \n",
    "- It is **bad form** to make your reader interpret numerical output from your code.  If a question asks you to compute some value from the data you should show your code output **AND** write a summary of the results in Markdown directly below your code. \n",
    "- 95 points of this assignment are in problems.  The remaining 5 are for neatness, style, and overall exposition of both code and text.\n",
    "- This probably goes without saying, but... For any question that asks you to calculate something, you **must show all work and justify your answers to receive credit**. Sparse or nonexistent work will receive sparse or nonexistent credit. \n",
    "\n",
    "---\n",
    "**Shortcuts:**  [Problem 1](#p1) | [Problem 2](#p2) | [Problem 3](#p3) |\n",
    "---"
   ]
  },
  {
   "cell_type": "code",
   "execution_count": 1,
   "metadata": {},
   "outputs": [],
   "source": [
    "import pandas as pd\n",
    "import numpy as np\n",
    "import matplotlib.pylab as plt\n",
    "%matplotlib inline"
   ]
  },
  {
   "cell_type": "markdown",
   "metadata": {},
   "source": [
    "[Back to top](#top)\n",
    "\n",
    "<br>\n",
    "\n",
    "<a/ id='p1'></a>\n",
    "\n",
    "### (15 points) Problem 1: Theory and Computation (Means and Medians)\n",
    "***\n",
    "\n",
    "A method to investigate the sensitivity of the sample mean and sample median to extreme outliers and changes in the dataset is to replace one or more elements in a given dataset by a number $y$ and investigate the effect when $y$ changes. To illustrate this, consider the following dataset:\n",
    " \n",
    "$$  12.2 \\quad -5.0 \\quad 1.0 \\quad 3.8 \\quad -4.1 \\quad 5.9 \\quad 1.9 \\quad 9.0 \\quad y$$\n",
    "\n",
    "\n"
   ]
  },
  {
   "cell_type": "markdown",
   "metadata": {},
   "source": [
    "**Part A:** Compute the sample mean and sample median for $y=3.5$. Then compute both quantities again for $y=6$."
   ]
  },
  {
   "cell_type": "code",
   "execution_count": 2,
   "metadata": {},
   "outputs": [
    {
     "name": "stdout",
     "output_type": "stream",
     "text": [
      "The mean with y = 1.5 is:  2.62\n",
      "The median with y = 1.5 is:  1.7\n",
      "The mean with y = 6 is:  3.0700000000000003\n",
      "The median with y = 6 is:  2.8499999999999996\n"
     ]
    }
   ],
   "source": [
    "#Your Code here\n",
    "def addNumbertoList(num):\n",
    "    values = [12.2, -5.0, 1.0, 3.8, -4.1, 5.9, 1.9, 9,0]\n",
    "    newValues = values.copy()\n",
    "    newValues.append(num)\n",
    "    return newValues\n",
    "\n",
    "print(\"The mean with y = 1.5 is: \", np.mean(addNumbertoList(1.5)))\n",
    "print(\"The median with y = 1.5 is: \", np.median(addNumbertoList(1.5)))\n",
    "print(\"The mean with y = 6 is: \", np.mean(addNumbertoList(6)))\n",
    "print(\"The median with y = 6 is: \", np.median(addNumbertoList(6)))"
   ]
  },
  {
   "cell_type": "markdown",
   "metadata": {},
   "source": [
    "**Part B:** Is there a value for $y$ that would make the mean of the data equal to 6? If so, calculate the value of $y$ that makes the mean equal to 6. If not, clearly explain why not.\n",
    "    \n",
    "Is there a value for $y$ that would make the median of the data equal to 6? If so, calculate the values of $y$ that makes the median equal to 6. If not, clearly explain why not."
   ]
  },
  {
   "cell_type": "code",
   "execution_count": 3,
   "metadata": {},
   "outputs": [
    {
     "name": "stdout",
     "output_type": "stream",
     "text": [
      "The number that will make the mean equal to 6 is:  35.3\n",
      "The sorted data values excluding y are: [-5.  -4.1  0.   1.   1.9  3.8  5.9  9.  12.2]\n"
     ]
    }
   ],
   "source": [
    "#Your code for Part C, here\n",
    "\n",
    "values = [12.2, -5.0, 1.0, 3.8, -4.1, 5.9, 1.9, 9,0]\n",
    "sumVals = np.sum(values)\n",
    "N = len(values)+1\n",
    "\n",
    "print(\"The number that will make the mean equal to 6 is: \", (6*N - (sumVals)))\n",
    "\n",
    "print(\"The sorted data values excluding y are:\",np.sort(values))"
   ]
  },
  {
   "cell_type": "markdown",
   "metadata": {},
   "source": [
    "There is **not** however a value for $y$ that will make the median equal to 6. Note the ordered list of data values excluding $y$ above.\n",
    "\n",
    "The middle data value is 1.9. If we add a number $y$ such that $1 \\leq y \\leq 1.9, then the median will be an average of $y$ and 1.9, such that $1.45 \\leq \\tilde{x} \\leq 1.9$. \n",
    "\n",
    "Likewise, if we add a number $y$ such that $1.9 \\leq y \\leq 3.8$, the median will be the average of $y$ and 1.9, this time ranging in values from $1.9 \\leq \\tilde{x} \\leq 2.85 $.\n",
    "\n",
    "Thus, the median, $\\tilde{x}$ can never equal 6.\n"
   ]
  },
  {
   "cell_type": "markdown",
   "metadata": {},
   "source": [
    "**Part C**: Compute the sample variance and the sample standard deviation for the original dataset given in part A, with $y=6$."
   ]
  },
  {
   "cell_type": "code",
   "execution_count": 4,
   "metadata": {},
   "outputs": [
    {
     "name": "stdout",
     "output_type": "stream",
     "text": [
      "The variance with y = 6:  26.726099999999995\n",
      "the std dev with y = 6:  5.169729199871111\n"
     ]
    }
   ],
   "source": [
    "#Your code for Part C, here# Solution:\n",
    "\n",
    "values_y6 = addNumbertoList(6)\n",
    "print(\"The variance with y = 6: \", np.var(values_y6))\n",
    "print(\"the std dev with y = 6: \", np.std(values_y6))"
   ]
  },
  {
   "cell_type": "markdown",
   "metadata": {},
   "source": [
    "**Part D**: Compute both the sample mean and median for the following cases: \n",
    "- $y=9$ \n",
    "- $y=50$ \n",
    "- $y=4.36$ \n",
    "- $y \\to \\infty$ \n",
    "- $y \\to -\\infty$"
   ]
  },
  {
   "cell_type": "code",
   "execution_count": 5,
   "metadata": {},
   "outputs": [
    {
     "name": "stdout",
     "output_type": "stream",
     "text": [
      "When y is 9, the median is 4.6\n",
      "When y is 9, the mean is 4.824999999999999\n",
      "When y is 50, the median is 4.6\n",
      "When y is 50, the mean is 9.95\n",
      "When y is 4.36, the median is 4.28\n",
      "When y is 4.36, the mean is 4.245\n",
      "When y is inf, the median is 4.6\n",
      "When y is inf, the mean is inf\n",
      "When y is -inf, the median is 4.15\n",
      "When y is -inf, the mean is -inf\n"
     ]
    }
   ],
   "source": [
    "# SOLUTION:\n",
    "\n",
    "yvals = [9,50,4.36,np.Infinity,-np.Infinity]\n",
    "for y in yvals:\n",
    "    x = np.array([y,4.2, 5.1, 5.0, 3.8, 4.1, 5.5, 1.9])\n",
    "    print(\"When y is {}, the median is {}\".format(y,np.median(x)))#Your code for Part D, here\n",
    "    print(\"When y is {}, the mean is {}\".format(y,np.mean(x)))#Your code for Part D, here"
   ]
  },
  {
   "cell_type": "markdown",
   "metadata": {},
   "source": [
    "**Part E**: Think about the previous parts, above, and describe in words or mathematical notation the answers to the following two questions:\n",
    "\n",
    "- By varying $y$, what is the set of all the possible values that the sample mean could take on?\n",
    "- By varying $y$, what is the set of all the possible values that the sample median could take on? Specifically, for what sets of $y$ values does the median take on its different possible values?"
   ]
  },
  {
   "cell_type": "markdown",
   "metadata": {},
   "source": [
    "***\n",
    "**Solution:**\n",
    "\n",
    "We can push the sample mean around a lot, since we have an equation above that tells us what to set $y$ to for any $\\bar{x}$. So $\\bar{x}$ can be anything. In math, we could write this as $(-\\infty,\\infty)$.\n",
    "\n",
    "The median is different. When $y\\geq 5.0$, the median will be $4.6$.  Similarly, whenever $y \\leq 4.1$, the median will be $4.2$. If $4.1 < y < 5.0$, then the median will be the mean of 4.3 and $y$. Therefore, the median can be $\\{4.28, 4.6,[4.1,5.0]\\}$.\n",
    "***"
   ]
  },
  {
   "cell_type": "markdown",
   "metadata": {},
   "source": [
    "**Part F**: Describe in words or mathematical notation, what happens to the sample standard deviation when $y$ is varied in the following ways: \n",
    " \n",
    "- $y \\to \\infty$ \n",
    "- $y \\to \\bar{x}$"
   ]
  },
  {
   "cell_type": "markdown",
   "metadata": {},
   "source": [
    "***\n",
    "**Solution:**\n",
    "\n",
    "As $y \\to \\infty$, the sample standard deviation $ \\to \\infty $. Since the sample standard deviation involves calculating the squared distance from each data value to the mean, by setting y equal to the mean, the standard deviation will decrease.\n",
    "***"
   ]
  },
  {
   "cell_type": "markdown",
   "metadata": {},
   "source": [
    "[Back to top](#top)\n",
    "<a/ id='p2'></a>\n",
    "\n",
    "## (15 pts) Problem 2: Theory and Computation (Scaling)\n",
    "***\n",
    "Consider the following 3 data sets:\n",
    "\n",
    "`A=[0,1,2,3,4,5,6,7,8,9,10,11,12]`\n",
    "\n",
    "`B=[0,0,0,12,7,18,47,25,0,13,0,35]`\n",
    "\n",
    "`C` is the random data set generated by using `np.random.exponential(scale=43, size=1000)`\n",
    "\n",
    "For each data set, perform the following computations in parts A, B, and C:\n",
    "\n",
    "**Part A:** Compute and print the mean and standard deviation of the data set."
   ]
  },
  {
   "cell_type": "code",
   "execution_count": 6,
   "metadata": {},
   "outputs": [
    {
     "name": "stdout",
     "output_type": "stream",
     "text": [
      "The mean of A is:  6.0\n",
      "The std of A is:  3.8944404818493075\n",
      "The mean of B is:  13.083333333333334\n",
      "The std of B is:  15.64061341120571\n",
      "The mean of C is:  43.528127157640185\n",
      "The std of C is:  43.1039795338583\n"
     ]
    }
   ],
   "source": [
    "A = [0,1,2,3,4,5,6,7,8,9,10,11,12]\n",
    "B = [0,0,0,12,7,18,47,25,0,13,0,35]\n",
    "C = np.random.exponential(scale=43, size=1000)\n",
    "\n",
    "print('The mean of A is: ', np.mean(A))\n",
    "print('The std of A is: ', np.std(A,ddof=1))\n",
    "\n",
    "print('The mean of B is: ', np.mean(B))\n",
    "print('The std of B is: ', np.std(B,ddof=1))\n",
    "\n",
    "print('The mean of C is: ', np.mean(C))\n",
    "print('The std of C is: ', np.std(C,ddof=1))"
   ]
  },
  {
   "cell_type": "markdown",
   "metadata": {},
   "source": [
    "**Part B:** Compute and print  the mean and standard deviation of the new data set formed by subtracting the original mean from each observation."
   ]
  },
  {
   "cell_type": "code",
   "execution_count": 7,
   "metadata": {},
   "outputs": [
    {
     "name": "stdout",
     "output_type": "stream",
     "text": [
      "The mean of A_new is:  0.0\n",
      "The std of A_new is:  3.8944404818493075\n",
      "The mean of B_new is:  -1.1842378929335002e-15\n",
      "The std of B_new is:  15.64061341120571\n",
      "The mean of C_new is:  -3.865352482534945e-15\n",
      "The std of C_new is:  43.1039795338583\n"
     ]
    }
   ],
   "source": [
    "A_new = [xi-np.mean(A) for xi in A]\n",
    "B_new = [xi-np.mean(B) for xi in B]\n",
    "C_new = [xi-np.mean(C) for xi in C]\n",
    "\n",
    "print('The mean of A_new is: ', np.mean(A_new))\n",
    "print('The std of A_new is: ', np.std(A_new,ddof=1))\n",
    "\n",
    "print('The mean of B_new is: ', np.mean(B_new))\n",
    "print('The std of B_new is: ', np.std(B_new,ddof=1))\n",
    "\n",
    "print('The mean of C_new is: ', np.mean(C_new))\n",
    "print('The std of C_new is: ', np.std(C_new,ddof=1))"
   ]
  },
  {
   "cell_type": "markdown",
   "metadata": {},
   "source": [
    "**Part C:** Compute and print  the mean and standard deviation of the new data set formed by subtracting the original mean from each observation and then dividing by the original standard deviation."
   ]
  },
  {
   "cell_type": "code",
   "execution_count": 8,
   "metadata": {},
   "outputs": [
    {
     "name": "stdout",
     "output_type": "stream",
     "text": [
      "The mean of A_newest is:  -5.124106267500723e-17\n",
      "The std of A_newest is:  1.0\n",
      "The mean of B_newest is:  -5.551115123125783e-17\n",
      "The std of B_newest is:  0.9999999999999998\n",
      "The mean of C_newest is:  -9.592326932761352e-17\n",
      "The std of C_newest is:  1.0\n"
     ]
    }
   ],
   "source": [
    "#Solution:\n",
    "\n",
    "A_newest = [xi/np.std(A, ddof=1) for xi in A_new]\n",
    "B_newest = [xi/np.std(B, ddof=1) for xi in B_new]\n",
    "C_newest = [xi/np.std(C, ddof=1) for xi in C_new]\n",
    "\n",
    "print('The mean of A_newest is: ', np.mean(A_newest))\n",
    "print('The std of A_newest is: ', np.std(A_newest,ddof=1))\n",
    "\n",
    "print('The mean of B_newest is: ', np.mean(B_newest))\n",
    "print('The std of B_newest is: ', np.std(B_newest,ddof=1))\n",
    "\n",
    "print('The mean of C_newest is: ', np.mean(C_newest))\n",
    "print('The std of C_newest is: ', np.std(C_newest,ddof=1))"
   ]
  },
  {
   "cell_type": "markdown",
   "metadata": {},
   "source": [
    "**Part D:** Why might this result matter?"
   ]
  },
  {
   "cell_type": "markdown",
   "metadata": {},
   "source": [
    "***\n",
    "**Solution:**\n",
    "Subtracting the mean and dividing by the standard deviation of the original data set creates a new data set with mean 0 and standard deviation equal to 1. This is how data is standardized and is important when comparing data sets that were recorded using different units. For example, perhaps we wanted to compare daily temperatures for the USA that were recorded in Fahrenheit with daily temperatures in Australia that were recorded in Celsius. Transforming each data set using the previously described method allows for better comparison between the data sets. \n",
    "***"
   ]
  },
  {
   "cell_type": "markdown",
   "metadata": {},
   "source": [
    "**Part E:** Looking at each of the 3 data sets, come up with a real-world context where those spectrum of numbers might make for reasonable observations."
   ]
  },
  {
   "cell_type": "markdown",
   "metadata": {},
   "source": [
    "***\n",
    "**Solution:**\n",
    "Data in A are a list of small integers: this might be the kind of values we see if we're counting things (number of wins for a sports team, number of students getting specific grade values, etc.).\n",
    "\n",
    "Data in B are mostly small integers, but have a lot of zeros: one common example of data with lots of zeros is precipitation data.  Another example might be feedings times of animals: 0's denote specimens that choose not to eat while the others have times recorded.\n",
    "\n",
    "Data in C are a big collection of numbers from 0 to infinity, which high decimal precision.  We'll learn more applications for exactly those `exponential` points, but one that makes sense is recording times, or weights, or any other physical attribute where we tend to not observe zero or negative values.\n",
    "***"
   ]
  },
  {
   "cell_type": "markdown",
   "metadata": {},
   "source": [
    "**Part F:** Let's prove a generalization of the result you likely observed in part B.  What happens if you take data set and \"recenter\" it by adding or subtracting the same number $c$ to each and every observation?\n",
    "\n",
    "In other words, show that the mean of the data set $Y$ given by $Y_i=X_i+c$ is $\\bar{Y}=\\bar{X}+c$.\n",
    "\n",
    "(**Hint**: start with the definition of the mean: $$\\bar{Y}=\\frac{\\sum_{i=1}^n Y_i}{n},$$ then work with the right hand side!)"
   ]
  },
  {
   "cell_type": "markdown",
   "metadata": {},
   "source": [
    "$$\\bar{Y}=\\frac{\\sum_{i=1}^n Y_i}{n},$$\n",
    "$$=\\frac{\\sum_{i=1}^n X_i+c}{n}$$\n",
    "$$=\\frac{\\sum_{i=1}^n X_i}{n}+\\frac{\\sum_{i=1}^n c}{n}$$\n",
    "$$=\\bar{X}+\\frac{nc}{n}=\\bar{X}+c$$\n"
   ]
  },
  {
   "cell_type": "markdown",
   "metadata": {},
   "source": [
    "[Back to top](#top)\n",
    "<a/ id='p3'></a>\n",
    "\n",
    "## (15 pts) Problem 3: Computation (Streaming Means)\n",
    "***\n",
    "\n",
    "Data science is often divided into two categories: questions of *what* the best value might be to repreesnt a data problem, and questions of *how* to compute that data value.  Question 1 - and prior lectures - should tell you that computing the mean is valuable!  But *how* do we compute the mean?\n",
    "\n",
    "Let $x_1, x_2, \\ldots, x_n$ be $n$ observations of a variable of interest.  Recall that the sample mean $\\bar{x}_n$ and sample variance $s^2_n$ are given by \n",
    "<a id='eq1'></a>\n",
    "$$\n",
    "\\bar{x}_n = \\frac{1}{n}\\sum_{k=1}^n x_k \\quad \\textrm{and} \\quad s^2_n = \\frac{1}{n-1}\\sum_{k=1}^n \\left( x_k - \\bar{x}_n\\right)^2 \\qquad \\tag{Equation 1}\n",
    "$$"
   ]
  },
  {
   "cell_type": "markdown",
   "metadata": {},
   "source": [
    "**Part A**:\n",
    "\n",
    "How many computations - floating point operations: addition, subtraction, multiplication, division each count as 1 operation - are required to compute the mean of the data set with $n$ observations?\n"
   ]
  },
  {
   "cell_type": "markdown",
   "metadata": {},
   "source": [
    "**Solution:**\n",
    "\n",
    "Computing a mean with $n$ observations takes $n-1$ additions followed by a division, for $n$ operations total."
   ]
  },
  {
   "cell_type": "markdown",
   "metadata": {},
   "source": [
    "**Part B**:\n",
    "\n",
    "Now suppose our data is *streaming*- we slowly add observations one at a time, instead of seeing the entire data set at once.  We are still interested in the mean, so if we stream the data set `[4,6,0,10, ...]`, we first compute the mean of the the first data point `[4]`, then we recompute the mean of the first two points `[4,6]`, then we recompute the mean of three `[4,6,0]`, and so forth.\n",
    "\n",
    "Suppose we recompute the mean from scratch after each and every one of our $n$ observations are one-by-one added to our data set.  How many floating point operations are spent computing (and re-computing) the mean of the data set?"
   ]
  },
  {
   "cell_type": "markdown",
   "metadata": {},
   "source": [
    "**Solution:**\n",
    "\n",
    " This means the first mean takes 1, the second mean takes 2, the third mean takes 3, and so forth.  Once we're computed $n$ sequential means, the total amount of computations is:\n",
    "\n",
    "$1+2+3+\\dots + n= \\sum_{i=1}^n i = \\frac{n(n+1)}{2}$ computations.  This is *order* $n^2$."
   ]
  },
  {
   "cell_type": "markdown",
   "metadata": {},
   "source": [
    "We should be convinced that streaming a mean costs a lot more computer time than just computing once!\n",
    "\n",
    "In this problem we explore a smarter method for such an _online_ computation of the mean.  \n",
    "\n",
    "**Result**: The following relation holds between the mean of the first $n-1$ observations and the mean of all $n$ observations: \n",
    "\n",
    "$$\n",
    "\\bar{x}_n = \\bar{x}_{n-1} + \\frac{x_n - \\bar{x}_{n-1}}{n}\n",
    "$$\n",
    "\n",
    "\n",
    "A proof of this result is in the [Appendix](#Appendix) after this problem, and requires some careful manipulations of the sum $\\bar{x}_n$.  Your task will be to computationally verify and utilize this result.\n",
    "\n",
    "**Part C**: Write a function `my_sample_mean` that takes as its input a numpy array and returns the mean of that numpy array using the formulas from class ([Equation 1](#eq1)). Write another function `my_sample_var` that takes as its input a numpy array and returns the variance of that numpy array, again using the formulas from class ([Equation 1](#eq1)). You may **not** use any built-in sample mean or variance functions."
   ]
  },
  {
   "cell_type": "code",
   "execution_count": 9,
   "metadata": {},
   "outputs": [],
   "source": [
    "#Solution:\n",
    "\n",
    "def my_sample_mean(xx):\n",
    "    n = len(xx)\n",
    "    total = np.sum(xx)\n",
    "    return total/n\n",
    "\n",
    "def my_sample_var(xx):\n",
    "    mean = my_sample_mean(xx)\n",
    "    centered = xx - mean\n",
    "    squared = centered**2\n",
    "    return np.sum(squared)/(len(xx)-1)"
   ]
  },
  {
   "cell_type": "markdown",
   "metadata": {},
   "source": [
    "**Part D**: Use your functions from Part C to compute the sample mean and sample variance of the following array, which contains the minutes late that the BuffBus is running on Friday afternoon.\n",
    "\n",
    "`bus = [312, 4, 10, 0, 22, 39, 81, 19, 8, 60, 80, 42]`"
   ]
  },
  {
   "cell_type": "code",
   "execution_count": 10,
   "metadata": {},
   "outputs": [
    {
     "name": "stdout",
     "output_type": "stream",
     "text": [
      "Sample mean is:  56.416666666666664 ; sample variance is:  7274.628787878787\n"
     ]
    }
   ],
   "source": [
    "bus = [312, 4, 10, 0, 22, 39, 81, 19, 8, 60, 80, 42]\n",
    "mean = my_sample_mean(bus)\n",
    "var = my_sample_var(bus)\n",
    "print(\"Sample mean is: \", mean,\"; sample variance is: \", var)"
   ]
  },
  {
   "cell_type": "markdown",
   "metadata": {},
   "source": [
    "**Part E**: Implement a third function called `update_mean` that implements the formula discussed after part B. Note that this function will need to take as its input three things: $x_n$, $\\bar{x}_{n-1}$ and $n$, and returns $\\bar{x}_{n}$. A function header and return statement are provided for you. This function may be auto-graded, so please do not change the given header API - the order of inputs matters! If you change it, you might lose points.\n",
    "\n",
    "Use this function to compute the values that you get from taking the mean of the first buff buses' lateness, the first two buff buses' lateness, the first three buff buses' lateness, and so on up to all of the `bus` data points from **Part D**. Store your streaming bus means in a numpy array called `buffbus_bad_means`.  Report all 12 estimates in `buffbus_bad_means`."
   ]
  },
  {
   "cell_type": "code",
   "execution_count": 11,
   "metadata": {},
   "outputs": [
    {
     "name": "stdout",
     "output_type": "stream",
     "text": [
      "The first 1 busses have a mean lateness of 312.000 minutes\n",
      "The first 2 busses have a mean lateness of 158.000 minutes\n",
      "The first 3 busses have a mean lateness of 108.667 minutes\n",
      "The first 4 busses have a mean lateness of 81.500 minutes\n",
      "The first 5 busses have a mean lateness of 69.600 minutes\n",
      "The first 6 busses have a mean lateness of 64.500 minutes\n",
      "The first 7 busses have a mean lateness of 66.857 minutes\n",
      "The first 8 busses have a mean lateness of 60.875 minutes\n",
      "The first 9 busses have a mean lateness of 55.000 minutes\n",
      "The first 10 busses have a mean lateness of 55.500 minutes\n",
      "The first 11 busses have a mean lateness of 57.727 minutes\n",
      "The first 12 busses have a mean lateness of 56.417 minutes\n"
     ]
    }
   ],
   "source": [
    "# Given API:\n",
    "def update_mean(prev_mean, xn, n):\n",
    "    new_mean = prev_mean + (xn - prev_mean)/n\n",
    "    return(new_mean)\n",
    "\n",
    "buffbus_bad_means = []\n",
    "\n",
    "prior_mean = bus[0]\n",
    "\n",
    "length_of_loop = np.size(bus)\n",
    "for i in range(length_of_loop):\n",
    "    prior_mean = update_mean(prior_mean,bus[i],i+1)\n",
    "    buffbus_bad_means.append(prior_mean)\n",
    "buffbus_bad_means = np.array(buffbus_bad_means)\n",
    "\n",
    "for idx,times in enumerate(buffbus_bad_means):\n",
    "    print(\"The first {:.0f} busses have a mean lateness of {:.3f} minutes\".format(idx+1,times))"
   ]
  },
  {
   "cell_type": "markdown",
   "metadata": {},
   "source": [
    "To ensure your function complies with the given API, run this small test, where we suppose we have a mean of $\\bar{x}_n = 1$ with the first $2$ data points (`prev_mean`), and we update this with the 3rd ($n=3$) data point which is $x_3=2$:"
   ]
  },
  {
   "cell_type": "code",
   "execution_count": 13,
   "metadata": {},
   "outputs": [],
   "source": [
    "assert update_mean(1,2,3)==4/3, \"Warning: function seems broken.\""
   ]
  },
  {
   "cell_type": "markdown",
   "metadata": {},
   "source": [
    "**Part F**:\n",
    "\n",
    "How many floating point operations were spent computing the final result in your code in part E?  Is this truly better than the uninformed approach from part B?"
   ]
  },
  {
   "cell_type": "markdown",
   "metadata": {},
   "source": [
    "**Solution:**\n",
    "\n",
    "The update_mean function took only 3 operations, and we perform it for all data points after the first ($n-1$ times total).  This means that for a data set that streams in $n$ data point, we preform $3(n-1)$ operations compared to the naive approach taking $\\frac{n(n+1)}{2}$ operations.  This is an *order* $n$ operation instead of $n^2$, so the larger the data gets, the more time we save!\n",
    "\n",
    "On our example with only 12 data points, the naive approach would perform 78 operations and the update_mean function just 33, so we're already saving plenty of time.\n"
   ]
  },
  {
   "cell_type": "markdown",
   "metadata": {},
   "source": [
    "<a id='Appendix'></a>\n",
    "\n",
    "## Appendix \n",
    "\n",
    "*Goal*: Prove that \n",
    "$$\n",
    "\\bar{x}_n = \\bar{x}_{n-1} + \\frac{x_n - \\bar{x}_{n-1}}{n}\n",
    "$$\n",
    "\n",
    "Note that you can get an expression for $\\bar{x}_{n-1}$ by simply replacing $n$ in Equation 1 above with $n-1$.\n",
    "\n",
    "We'll start with $\\bar{x}_n$ and massage it until we get the righthand side of the formula\n",
    "\n",
    "\\begin{eqnarray}\n",
    "\\nonumber \\bar{x}_n &=& \\frac{1}{n} \\sum_{k=1}^n x_k \\\\\n",
    "&=& \\frac{1}{n} \\sum_{k=1}^{n-1} x_k + \\frac{1}{n}x_n \\\\\n",
    "&=& \\frac{n-1}{n-1}\\frac{1}{n} \\sum_{k=1}^{n-1} x_k + \\frac{1}{n}x_n \\\\\n",
    "&=& \\frac{n-1}{n} \\left(\\frac{1}{n-1} \\sum_{k=1}^{n-1} x_k\\right) + \\frac{1}{n}x_n \\\\\n",
    "&=& \\frac{n-1}{n} \\bar{x}_{n-1} + \\frac{1}{n}x_n \\\\\n",
    "&=& \\frac{n}{n}\\bar{x}_{n-1} - \\frac{1}{n}\\bar{x}_{n-1} + \\frac{1}{n}x_n \\\\\n",
    "&=&  \\bar{x}_{n-1} + \\frac{x_n - \\bar{x}_{n-1}}{n} \\quad \\checkmark\n",
    "\\end{eqnarray}\n",
    "\n"
   ]
  }
 ],
 "metadata": {
  "kernelspec": {
   "display_name": "Python 3",
   "language": "python",
   "name": "python3"
  },
  "language_info": {
   "codemirror_mode": {
    "name": "ipython",
    "version": 3
   },
   "file_extension": ".py",
   "mimetype": "text/x-python",
   "name": "python",
   "nbconvert_exporter": "python",
   "pygments_lexer": "ipython3",
   "version": "3.6.4"
  }
 },
 "nbformat": 4,
 "nbformat_minor": 2
}
