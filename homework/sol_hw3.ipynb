{
 "cells": [
  {
   "cell_type": "markdown",
   "metadata": {},
   "source": [
    "<a id='top'></a>\n",
    "\n",
    "# CSCI3022 S21\n",
    "# Homework 3: Probability and Simulations\n",
    "***\n",
    "\n",
    "**Name**: ________________________________________________________________________\n",
    "\n",
    "***\n",
    "\n",
    "This assignment is due on Canvas by **MIDNIGHT on Monday, February 22**. Your solutions to theoretical questions should be done in Markdown directly below the associated question.  Your solutions to computational questions should include any specified Python code and results as well as written commentary on your conclusions.  Remember that you are encouraged to discuss the problems with your classmates, but **you must write all code and solutions on your own**.\n",
    "\n",
    "**NOTES**: \n",
    "\n",
    "- Any relevant data sets should be available on Canvas. To make life easier on the graders if they need to run your code, do not change the relative path names here. Instead, move the files around on your computer.\n",
    "- If you're not familiar with typesetting math directly into Markdown then by all means, do your work on paper first and then typeset it later.  Here is a [reference guide](https://math.meta.stackexchange.com/questions/5020/mathjax-basic-tutorial-and-quick-reference) linked on Canvas on writing math in Markdown. **All** of your written commentary, justifications and mathematical work should be in Markdown.  I also recommend the [wikibook](https://en.wikibooks.org/wiki/LaTeX) for LaTex.\n",
    "- Because you can technically evaluate notebook cells is a non-linear order, it's a good idea to do **Kernel $\\rightarrow$ Restart & Run All** as a check before submitting your solutions.  That way if we need to run your code you will know that it will work as expected. \n",
    "- It is **bad form** to make your reader interpret numerical output from your code.  If a question asks you to compute some value from the data you should show your code output **AND** write a summary of the results in Markdown directly below your code. \n",
    "- 95 points of this assignment are in problems.  The remaining 5 are for neatness, style, and overall exposition of both code and text.\n",
    "- This probably goes without saying, but... For any question that asks you to calculate something, you **must show all work and justify your answers to receive credit**. Sparse or nonexistent work will receive sparse or nonexistent credit. \n",
    "\n",
    "---\n",
    "**Shortcuts:**  [Problem 1](#p1) | [Problem 2](#p2) | [Problem 3](#p3) |\n",
    "---"
   ]
  },
  {
   "cell_type": "code",
   "execution_count": 1,
   "metadata": {},
   "outputs": [],
   "source": [
    "import pandas as pd\n",
    "import numpy as np\n",
    "import matplotlib.pylab as plt\n",
    "%matplotlib inline"
   ]
  },
  {
   "cell_type": "markdown",
   "metadata": {},
   "source": [
    "[Back to top](#top)\n",
    "\n",
    "<a id='p1'></a>\n",
    "\n",
    "## (25 pts) Problem 1 (Simulation): Let's play some \"games\"!\n",
    "***\n",
    "\n",
    "One of the big payoffs of simulation is that it can let us answer some probability questions that are otherwise quite difficult.  We can instead just simulate the process and get approximate results based on simulation.\n",
    "\n"
   ]
  },
  {
   "cell_type": "markdown",
   "metadata": {},
   "source": [
    "***\n",
    "### A) Poker... pen-and-paper\n",
    "Game number 1... is Poker!\n",
    "\n",
    "A common example for discrete counting and probability questions are poker hands.  Consider using a standard 52-card playing deck, with card faces `[A,2,3,4,5,6,7,8,9,10,J,Q,K]` across the standard 4 suits: `[C,D,H,S]`.\n",
    "\n",
    "Suppose we draw 5 cards at random from the deck.  What is the exact probability that we have a \"full house:\" a hand with 3 copies of one card face type (of any suits) and the other two cards matches of a different card face type (of any suits)?  Typeset your work below.  You may leave your answer in terms of a ratio of products, but you should simplify away any combinatoric notation such as ${n \\choose k}$ or $P(n,k)$.\n"
   ]
  },
  {
   "cell_type": "markdown",
   "metadata": {},
   "source": [
    "Idea: Choose one card face to be the 3-of-a-kind.  There are $\\binom{13}{1}$ such ways.  Of those 3 faces, choose their 3 suits.  There are $\\binom{4}{3}$ such ways.  Then choose a *different* card face to be the 2-of-a-kind.  There are $\\binom{12}{1}$ such ways.  Of those 2 faces, choose their 2 suits.  There are $\\binom{4}{2}$ such ways.\n",
    "\n",
    "Compare this to the number of ways to pick any 5 cards from the deck.  There are $\\binom{52}{5}$ such ways.  Combined, this is:\n",
    "\n",
    "$$P(\\text{Full House})= \\frac{\\text{# of Full House Hands}}{\\text{All hands}}= \\frac{\\binom{13}{1}\\cdot\\binom{4}{3}\\cdot \\binom{12}{1}\\cdot \\binom{4}{2}}{\\binom{52}{5}}= \\frac{13\\cdot 4 \\cdot 12 \\cdot 6 \\cdot 5!}{52 \\cdot 51 \\cdot 50 \\cdot 49 \\cdot 48}= 0.00144= 0.144\\%$$"
   ]
  },
  {
   "cell_type": "markdown",
   "metadata": {},
   "source": [
    "***\n",
    "### B) Poker with computers!\n",
    "\n",
    "Write a simulation that draws a hand of 5 cards from a standard 52-card deck. Repeat this simulation 10000 times, and report how many \"full house\" hands were observed. Verify that the result is consistent with your answer to part A.\n",
    "\n",
    "NB: The function `np.unique` can make checking hands easier.  Your actual simulation should have 52 distinct cards, even if we're only using the faces (and not suits) for the check of full house."
   ]
  },
  {
   "cell_type": "code",
   "execution_count": 2,
   "metadata": {},
   "outputs": [
    {
     "name": "stdout",
     "output_type": "stream",
     "text": [
      "Observed 0.00150 Proportion of Full Houses\n",
      "Theoretical Proportion of Full houses:  0.00144 \n"
     ]
    }
   ],
   "source": [
    "#build a deck\n",
    "suits=['D','H','C','S']\n",
    "cardvalues=np.array(range(1,14,1))\n",
    "cards=[]\n",
    "for suit in suits:\n",
    "    for value in cardvalues:\n",
    "        cards.append(str(value)+str(suit))\n",
    "\n",
    "#function for one hand\n",
    "def one_hand():\n",
    "    return np.random.choice(cards, replace=False, size=5)\n",
    "#function to draw a hand, check if it has 3 of a kind\n",
    "def fullhouse():\n",
    "    hand=one_hand()\n",
    "    values=[int(card[:-1]) for card in hand] #strip  the suits\n",
    "    counts=np.unique(values, return_counts=True)[1] #count the faces\n",
    "    return ((max(counts)==3) & (len(counts) == 2))\n",
    "\n",
    "nsamp=10000\n",
    "FH=np.zeros(nsamp)\n",
    "\n",
    "for ii in range(nsamp):\n",
    "    FH[ii]=fullhouse()\n",
    "\n",
    "print(\"Observed {:.5f} Proportion of Full Houses\".format(np.sum(FH)/nsamp))\n",
    "thy=13*4*12*6*120/52/51/50/49/48\n",
    "print(\"Theoretical Proportion of Full houses:  {:.5f} \".format(thy))\n"
   ]
  },
  {
   "cell_type": "markdown",
   "metadata": {},
   "source": [
    "The Riddler is a column on the website https://fivethirtyeight.com that posts logic, math, and probability puzzles each week.  Some of puzzles can be attacked by simulation and discrete probability: things that we have the tools to solve!\n",
    "\n",
    "Parts C/Eare former Riddler prompts.\n",
    "\n",
    "\n",
    "***\n",
    "### C) A \"solitaire\" game\n",
    "\n",
    "On snowy afternoons, you like to play a solitaire “game” with a standard, randomly shuffled deck of 52 cards. You start dealing cards face up, one at a time, into a pile. As you deal each card, you also speak aloud, in order, the 13 card faces in a standard deck: ace, two, three, etc. (When you get to king, you start over at ace.) You keep doing this until the rank of the card you deal matches the rank you speak aloud, in which case you lose. You win if you reach the end of the deck without any matches.\n",
    "\n",
    "Set up a simulation to answer the prompt: what is the probability that you win?\n",
    "\n",
    "Note that your final result should be *close* to the value of $(12/13)^{52}$, which would be the theoretical result if each card flip was independent.  Was it higher or lower?  Does this match your intuition?"
   ]
  },
  {
   "cell_type": "code",
   "execution_count": 3,
   "metadata": {},
   "outputs": [
    {
     "name": "stdout",
     "output_type": "stream",
     "text": [
      "Lost  98424 times, for a win % of:  0.01576\n",
      "Compared to sanity check of: 0.015572935129947783\n"
     ]
    }
   ],
   "source": [
    "#\n",
    "nsamps=10**5\n",
    "callorder=np.repeat(range(13),4) #order we call numbers\n",
    "losses=0 #counter variable, using losses since\n",
    "#I prefer count np.any(match) instead of np.all(don't match)\n",
    "\n",
    "for _ in range(nsamps):\n",
    "    newshuffle=np.repeat(range(13),4)\n",
    "    np.random.shuffle(newshuffle) #make a new shuffle\n",
    "    if np.any(newshuffle==callorder): losses +=1 #check if we lost\n",
    "    \n",
    "print('Lost ', losses, 'times, for a win % of: ', (nsamps-losses)/nsamps)\n",
    "print('Compared to sanity check of:', (12/13)**52)\n"
   ]
  },
  {
   "cell_type": "markdown",
   "metadata": {},
   "source": [
    "Our win percentage seems *a little* higher than the baseline if cards are independent.  This should make a little sense, since \"not losing\" on the first flip means that the first card *wasn't* an ace... so still have 4 aces in the remaining 51 cards to flip but only will call ace three more times, which has slightly improved our odds.\n",
    "\n",
    "In other words, the flips arne't independent, and the longer we play *without losing*, the better our odds of surviving the next flip tend to become."
   ]
  },
  {
   "cell_type": "markdown",
   "metadata": {},
   "source": [
    "***\n",
    "### D) Random motion\n",
    "\n",
    "Suppose that all city streets follow a grid layout, running north-south and east-west. You’re driving north when you decide to play a little game. Every time you reach an intersection, you randomly turn left or right, each with a 50 percent chance.\n",
    "\n",
    "After driving through 10 intersections, what is the probability that you are still driving north?\n"
   ]
  },
  {
   "cell_type": "code",
   "execution_count": 4,
   "metadata": {},
   "outputs": [
    {
     "name": "stdout",
     "output_type": "stream",
     "text": [
      "Driving north... 0.4987 proportion of the time\n"
     ]
    }
   ],
   "source": [
    "#Gonna use a number to count our direction, since +/- are nice operations.\n",
    "#0: North\n",
    "#1: West\n",
    "#2: South\n",
    "#3 East\n",
    "\n",
    "#A \"turn\" either adds or subtracts 1.  Use modular to remap numbers back to 0-3 in case \n",
    "#the value becomes negative or exceeds 4.\n",
    "\n",
    "def sim_turn(direction=0, nturns=10):\n",
    "    for _ in range(nturns):\n",
    "#         print(direction)\n",
    "        direction=(4+direction+np.random.choice([-1,1]))%4\n",
    "    return direction\n",
    "\n",
    "#now the full sim:\n",
    "nsamp=10**4\n",
    "final_directions=np.zeros(nsamp)\n",
    "for ii in range(nsamp):\n",
    "    final_directions[ii]=sim_turn()\n",
    "print('Driving north...', np.sum(final_directions==0)/nsamp, 'proportion of the time')"
   ]
  },
  {
   "cell_type": "markdown",
   "metadata": {},
   "source": [
    "This should pass a sanity check: if we start north, after one turn we're always *either* E/W.  After another turn, whether we were doing E or W we will be going N or S, and each is equally likely."
   ]
  },
  {
   "cell_type": "markdown",
   "metadata": {},
   "source": [
    "***\n",
    "### E) More Random motion\n",
    "\n",
    "Now suppose that at every intersection, there’s a one-third chance you turn left, a one-third chance you turn right and a one-third chance you drive straight. Create a set of simulations that record which direction you're driving 11 times.  \n",
    "\n",
    "It is recommended that you save the results in a data frame of the form below:\n",
    "\n",
    "| Start | T1 | T2 | T3 | ... | T10 |\n",
    "| --- | --- |\n",
    "| N | E | N | W| ... | N |\n",
    "| N | W | W | S | ... | E|\n",
    "| N | W | N | E | ... | W|\n",
    "\n",
    "then create a plot where the $x$ axis is \"numbers of turns made\" from 0 to 10, and the $y$ axis is \"probability that you're driving North.\"\n"
   ]
  },
  {
   "cell_type": "code",
   "execution_count": 42,
   "metadata": {},
   "outputs": [
    {
     "name": "stdout",
     "output_type": "stream",
     "text": [
      "Empty DataFrame\n",
      "Columns: [Start, T1, T2, T3, T4, T5, T6, T7, T8, T9, T10]\n",
      "Index: []\n"
     ]
    }
   ],
   "source": [
    "df=pd.DataFrame(columns=['Start','T1','T2','T3','T4','T5','T6','T7','T8','T9','T10'])\n",
    "print(df)\n",
    "                         \n",
    "def sim_turn(direction=0, nturns=10):\n",
    "    directions=np.zeros(nturns+1)\n",
    "    directions[0]=direction\n",
    "    for i in range(1,nturns+1):      \n",
    "        directions[i]=(4+directions[i-1]+np.random.choice([-1,0,1]))%4\n",
    "    return directions\n",
    "\n",
    "#now the full sim:\n",
    "for ii in range(nsamp):\n",
    "    df.loc[ii]=sim_turn()\n"
   ]
  },
  {
   "cell_type": "code",
   "execution_count": 47,
   "metadata": {},
   "outputs": [
    {
     "data": {
      "text/html": [
       "<div>\n",
       "<style scoped>\n",
       "    .dataframe tbody tr th:only-of-type {\n",
       "        vertical-align: middle;\n",
       "    }\n",
       "\n",
       "    .dataframe tbody tr th {\n",
       "        vertical-align: top;\n",
       "    }\n",
       "\n",
       "    .dataframe thead th {\n",
       "        text-align: right;\n",
       "    }\n",
       "</style>\n",
       "<table border=\"1\" class=\"dataframe\">\n",
       "  <thead>\n",
       "    <tr style=\"text-align: right;\">\n",
       "      <th></th>\n",
       "      <th>Start</th>\n",
       "      <th>T1</th>\n",
       "      <th>T2</th>\n",
       "      <th>T3</th>\n",
       "      <th>T4</th>\n",
       "      <th>T5</th>\n",
       "      <th>T6</th>\n",
       "      <th>T7</th>\n",
       "      <th>T8</th>\n",
       "      <th>T9</th>\n",
       "      <th>T10</th>\n",
       "    </tr>\n",
       "  </thead>\n",
       "  <tbody>\n",
       "    <tr>\n",
       "      <th>0</th>\n",
       "      <td>0.0</td>\n",
       "      <td>1.0</td>\n",
       "      <td>1.0</td>\n",
       "      <td>0.0</td>\n",
       "      <td>0.0</td>\n",
       "      <td>3.0</td>\n",
       "      <td>2.0</td>\n",
       "      <td>3.0</td>\n",
       "      <td>0.0</td>\n",
       "      <td>1.0</td>\n",
       "      <td>2.0</td>\n",
       "    </tr>\n",
       "    <tr>\n",
       "      <th>1</th>\n",
       "      <td>0.0</td>\n",
       "      <td>1.0</td>\n",
       "      <td>1.0</td>\n",
       "      <td>0.0</td>\n",
       "      <td>0.0</td>\n",
       "      <td>0.0</td>\n",
       "      <td>3.0</td>\n",
       "      <td>3.0</td>\n",
       "      <td>0.0</td>\n",
       "      <td>1.0</td>\n",
       "      <td>0.0</td>\n",
       "    </tr>\n",
       "    <tr>\n",
       "      <th>2</th>\n",
       "      <td>0.0</td>\n",
       "      <td>1.0</td>\n",
       "      <td>2.0</td>\n",
       "      <td>2.0</td>\n",
       "      <td>1.0</td>\n",
       "      <td>0.0</td>\n",
       "      <td>1.0</td>\n",
       "      <td>0.0</td>\n",
       "      <td>3.0</td>\n",
       "      <td>3.0</td>\n",
       "      <td>0.0</td>\n",
       "    </tr>\n",
       "    <tr>\n",
       "      <th>3</th>\n",
       "      <td>0.0</td>\n",
       "      <td>1.0</td>\n",
       "      <td>0.0</td>\n",
       "      <td>1.0</td>\n",
       "      <td>1.0</td>\n",
       "      <td>2.0</td>\n",
       "      <td>1.0</td>\n",
       "      <td>0.0</td>\n",
       "      <td>1.0</td>\n",
       "      <td>1.0</td>\n",
       "      <td>2.0</td>\n",
       "    </tr>\n",
       "    <tr>\n",
       "      <th>4</th>\n",
       "      <td>0.0</td>\n",
       "      <td>0.0</td>\n",
       "      <td>0.0</td>\n",
       "      <td>3.0</td>\n",
       "      <td>3.0</td>\n",
       "      <td>2.0</td>\n",
       "      <td>2.0</td>\n",
       "      <td>1.0</td>\n",
       "      <td>2.0</td>\n",
       "      <td>1.0</td>\n",
       "      <td>0.0</td>\n",
       "    </tr>\n",
       "  </tbody>\n",
       "</table>\n",
       "</div>"
      ],
      "text/plain": [
       "   Start   T1   T2   T3   T4   T5   T6   T7   T8   T9  T10\n",
       "0    0.0  1.0  1.0  0.0  0.0  3.0  2.0  3.0  0.0  1.0  2.0\n",
       "1    0.0  1.0  1.0  0.0  0.0  0.0  3.0  3.0  0.0  1.0  0.0\n",
       "2    0.0  1.0  2.0  2.0  1.0  0.0  1.0  0.0  3.0  3.0  0.0\n",
       "3    0.0  1.0  0.0  1.0  1.0  2.0  1.0  0.0  1.0  1.0  2.0\n",
       "4    0.0  0.0  0.0  3.0  3.0  2.0  2.0  1.0  2.0  1.0  0.0"
      ]
     },
     "execution_count": 47,
     "metadata": {},
     "output_type": "execute_result"
    }
   ],
   "source": [
    "df.head(5)"
   ]
  },
  {
   "cell_type": "code",
   "execution_count": 69,
   "metadata": {},
   "outputs": [
    {
     "data": {
      "text/plain": [
       "Start    1.0000\n",
       "T1       0.3289\n",
       "T2       0.3267\n",
       "T3       0.2609\n",
       "T4       0.2602\n",
       "T5       0.2524\n",
       "T6       0.2545\n",
       "T7       0.2437\n",
       "T8       0.2539\n",
       "T9       0.2459\n",
       "T10      0.2513\n",
       "dtype: float64"
      ]
     },
     "execution_count": 69,
     "metadata": {},
     "output_type": "execute_result"
    }
   ],
   "source": [
    "#check columnwise for proportion of \"northwards\".  Here's a way to do so using apply on our data frame\n",
    "def north_prop(column):\n",
    "    return np.sum(column==0)/nsamp\n",
    "df.apply(north_prop)"
   ]
  },
  {
   "cell_type": "code",
   "execution_count": 68,
   "metadata": {},
   "outputs": [
    {
     "data": {
      "image/png": "[encoded data removed]",
      "text/plain": [
       "<matplotlib.figure.Figure at 0x2362f04ee10>"
      ]
     },
     "metadata": {},
     "output_type": "display_data"
    }
   ],
   "source": [
    "fig, ax = plt.subplots(figsize=(10,5))\n",
    "plt.plot(range(11), df.apply(north_prop))\n",
    "ax.set_xlabel('Number of turns')\n",
    "ax.set_xticks(range(11))\n",
    "ax.set_xticklabels(df.columns)\n",
    "ax.set_ylabel('Probability of going North');"
   ]
  },
  {
   "cell_type": "markdown",
   "metadata": {},
   "source": [
    "Initially we're always going north: this falls to 33% after one turn and fairly quickly thereafter seems to settle in to \"random direction, all equally likely\" where $P(\\text{North given many turns})=25\\%$"
   ]
  },
  {
   "cell_type": "markdown",
   "metadata": {},
   "source": [
    "[Back to top](#top)\n",
    "<a/ id='p2'></a>\n",
    "\n",
    "## (20 pts) Problem 2 (Simulation and Theory): Bayes and Repeated Observations\n",
    "***\n",
    "\n",
    "\n",
    "To play a game, you have a bag containing 25 fair six-sided dice, with faces `{1,2,3,4,5,6}`.  <img style=\"float: right; width: 200px; padding: 3mm;\" src=\"https://images-na.ssl-images-amazon.com/images/I/619NZnvxJaL._SX425_.jpg\" alt=\"Drawing\"/>\n",
    "This bag also contains 10 fair eight-sided dice (faces `{1,2,3,4,5,6,7,8}`) and 2 fair twenty-sided dice (faces `{1,2,3,4,...,19,20}`).  Call these 3 classes of die \"Six\", \"Eight\" and \"Twenty\" (or S, E, and T, for short). In order to be sure that you are not distinguishing dice by their feel, you are required to wear crab claw gloves. After donning your gloves, you grab one die at random from the bag. \n",
    "\n",
    "Work the following problems by hand (or claw) unless otherwise stated (but don't be afraid to simulate to check your result!). "
   ]
  },
  {
   "cell_type": "markdown",
   "metadata": {},
   "source": [
    "***\n",
    "**Part A**: You roll your die one time.  What is the probability of the event $R_7$, that you roll a 7?  Include at least 4 decimal places in your answer."
   ]
  },
  {
   "cell_type": "markdown",
   "metadata": {},
   "source": [
    "**Solution**:\n",
    "\n",
    "$\\begin{align*}\n",
    "P(R_7) &= P(R_7 \\mid S)P(S) + P(R_7 \\mid E) P(E) + P(R_7 \\mid T) P(T) \\\\\n",
    "&= 0 \\cdot \\frac{25}{37} + \\frac{1}{8} \\frac{10}{37} + \\frac{1}{20}\\frac{2}{37} \\\\\n",
    "&= 0.0365\n",
    "\\end{align*}$"
   ]
  },
  {
   "cell_type": "markdown",
   "metadata": {},
   "source": [
    "***\n",
    "**Part B**: Suppose you roll a 7.  What is the probability that the die you chose from the bag is an Eight-sided die? "
   ]
  },
  {
   "cell_type": "markdown",
   "metadata": {},
   "source": [
    "**Solution**:\n",
    "\n",
    "We use Bayes' Theorem:\n",
    "\n",
    "$\\begin{align*}\n",
    "P(E \\mid R_7) &= \\frac{P(R_7 \\mid E) P(E)}{P(R_7)} \\\\\n",
    " &= \\frac{\\frac{1}{8} \\cdot \\frac{10}{37}}{\\frac{1}{8} \\frac{10}{37} + \\frac{1}{20}\\frac{2}{37}} \\\\\n",
    " &= 0.926\n",
    "\\end{align*}$"
   ]
  },
  {
   "cell_type": "markdown",
   "metadata": {},
   "source": [
    "**Part C:**  Are the events $R_7$ and $E$ independent?  Justify your answer **using math**."
   ]
  },
  {
   "cell_type": "markdown",
   "metadata": {},
   "source": [
    "**Solution:**\n",
    "\n",
    "No they are not independent.  We know this because $P(R_7) \\neq P(R_7 \\mid E)$.\n",
    "\n",
    "**NB:** We could also have checked either:\n",
    "* $P(R_7 \\cap E) \\stackrel{?}{=} P(R_7)P(E)$, or\n",
    "* $P(E \\mid R_7) \\stackrel{?}{=} P(E)$"
   ]
  },
  {
   "cell_type": "markdown",
   "metadata": {},
   "source": [
    "**Part D:**  Suppose you roll your die $n$ times and record each outcome.  Obviously, if you roll 7 or 8 you know you did *not* pick a Six-sided die, and if you roll a 9 or higher, you must have picked a Twenty-sided die.\n",
    "\n",
    "But, if you roll $n$ times in a row and get only 1, 2, 3, 4, 5, or 6 you would have a stronger belief that you in fact grabbed one of the Six-sided dice.  Let $L_n$ be the event that you roll $n$ rolls of 1, 2, 3, 4, 5, or 6 in a row.  For example, one outcome in $L_3$ is the sequence 2, 3, 1.\n",
    "\n",
    "Given that you roll a single value of 1, 2, 3, 4, 5, or 6, what is the probability that you have grabbed a Six-sided die?  That is, calculate **by hand** $P(S \\mid L_1)$."
   ]
  },
  {
   "cell_type": "markdown",
   "metadata": {},
   "source": [
    "**Solution:**\n",
    "\n",
    "$\\begin{align*}\n",
    "P(S \\mid L_1) &= \\frac{P(L_1 \\mid S) P(S)}{P(L_1)} \\\\\n",
    " &= \\frac{P(L_1 \\mid S) P(S)}{P(L_1 \\mid S) P(S) + P(L_1 \\mid E) P(E)  + P(L_1 \\mid T) P(T)} \\\\\n",
    " &= \\frac{1 \\cdot \\frac{25}{37}}{1\\cdot \\frac{25}{37} + \\frac{6}{8} \\frac{10}{37}  + \\frac{6}{20} \\frac{2}{37}} \\\\\n",
    " &\\approx 0.7553\n",
    "\\end{align*}$"
   ]
  },
  {
   "cell_type": "code",
   "execution_count": 5,
   "metadata": {},
   "outputs": [
    {
     "data": {
      "text/plain": [
       "0.7552870090634441"
      ]
     },
     "execution_count": 5,
     "metadata": {},
     "output_type": "execute_result"
    }
   ],
   "source": [
    "(1*25/37)/(1*25/37+6/8*10/37+6/20*2/37)"
   ]
  },
  {
   "cell_type": "markdown",
   "metadata": {},
   "source": [
    "**Part E**:  \n",
    "\n",
    "First, work out **by hand** a formula for the probability in general that you are rolling a Six-sided die, given that you have rolled $n$ values in a row that are 1, 2, 3, 4, 5 or 6 (that is, $L_n$).  So you want a formula for $P(S \\mid L_n)$ in terms of $n$.\n",
    "\n",
    "Then, define a function `prob_six` to calculate $P(S \\mid L_n)$.  This function should only take one positive integer argument, $n$.\n",
    "\n",
    "Verify that your function is performing as expected by checking your answer to **Part D**."
   ]
  },
  {
   "cell_type": "markdown",
   "metadata": {},
   "source": [
    "**Solution**:\n",
    "\n",
    "Let $L_n$ be the event that we roll $n$ values in a row that are 1,2,3, 4, 5 or 6.\n",
    "\n",
    "$$P(S \\mid L_n) = \\frac{P(L_n \\mid S) P(S)}{P(L_n)}$$\n",
    "\n",
    "Use the Law of Total Probability on the denominator to get\n",
    "\n",
    "$$P(S \\mid L_n) = \\frac{P(L_n \\mid S) P(S)}{P(L_n \\mid S) P(S) + P(L_n \\mid E) P(E)  + P(L_n \\mid T) P(T)}$$\n",
    "\n",
    "Substitute in the easy things we already know:\n",
    "\n",
    "$$P(S \\mid L_n) = \\frac{P(L_n \\mid S) \\frac{25}{37}}{P(L_n \\mid S) \\frac{25}{37} + P(L_n \\mid E) \\frac{10}{37} + P(L_n \\mid T) \\frac{2}{37}}$$\n",
    "\n",
    "Side calculation: what's the probability that I get $\\leq 6$ $n$ times in a row if I have a Six-sided die in hand?\n",
    "$$P(L_n \\mid S) = 1$$\n",
    "\n",
    "Side calculation: what's the probability that I get $\\leq 6$ $n$ times in a row if I have a Eight-sided die in hand?\n",
    "$$P(L_n \\mid E) = \\left(\\frac{6}{8}\\right)^n = \\left(\\frac{3}{4}\\right)^n$$\n",
    "\n",
    "Side calculation: what's the probability that I get $\\leq 6$ $n$ times in a row if I have a Twenty-sided die in hand?\n",
    "$$P(L_n \\mid T) = \\left(\\frac{6}{20}\\right)^n = \\left(\\frac{3}{10}\\right)^n$$\n",
    "\n",
    "Plug in side calcs:\n",
    "$$P(S \\mid L_n) = \\frac{1 \\cdot \\frac{25}{37}}{1 \\cdot \\frac{25}{37} + \\left(\\frac{3}{4}\\right)^n \\cdot \\frac{10}{37} + \\left(\\frac{3}{10}\\right)^n \\cdot \\frac{2}{37}}$$"
   ]
  },
  {
   "cell_type": "code",
   "execution_count": 6,
   "metadata": {},
   "outputs": [
    {
     "name": "stdout",
     "output_type": "stream",
     "text": [
      "0.7552870090634441\n"
     ]
    }
   ],
   "source": [
    "def prob_six(n):\n",
    "    \n",
    "    return (1*25/37)/(1*25/37+((6/8)**n)*10/37+((6/20)**n)*2/37)\n",
    "\n",
    "# Verification of Part D answer:  plug in n=1\n",
    "print(prob_six(1))"
   ]
  },
  {
   "cell_type": "markdown",
   "metadata": {},
   "source": [
    "**Part F:**  What is the smallest value of $n$ successive rolls of 1, 2, 3, 4, 5 or 6 that would make you believe that there's a better-than-95% chance that the die you grabbed is Six-sided?  Plugging larger and larger values for $n$ into your `prob_six` function is a very reasonable way to check this."
   ]
  },
  {
   "cell_type": "code",
   "execution_count": 7,
   "metadata": {},
   "outputs": [
    {
     "data": {
      "text/plain": [
       "[0.7552870090634441,\n",
       " 0.8115565654926149,\n",
       " 0.8540366040088478,\n",
       " 0.8871457460696117,\n",
       " 0.9131450448035758,\n",
       " 0.933489153365373,\n",
       " 0.9492970472897149,\n",
       " 0.9614918524668586,\n",
       " 0.9708403733323409]"
      ]
     },
     "execution_count": 7,
     "metadata": {},
     "output_type": "execute_result"
    }
   ],
   "source": [
    "[prob_six(n) for n in range(1,10)]"
   ]
  },
  {
   "cell_type": "markdown",
   "metadata": {},
   "source": [
    "**Solution:** n=8 is large enough for us to say there's at least a 95% chance we are rolling a 6-sided die."
   ]
  },
  {
   "cell_type": "markdown",
   "metadata": {},
   "source": [
    "[Back to top](#top)\n",
    "<a/ id='p3'></a>\n",
    "\n",
    "## (5 pts) Problem 3 (Theory): It's probably Bayes\n",
    "***\n"
   ]
  },
  {
   "cell_type": "markdown",
   "metadata": {},
   "source": [
    "To get published in an academic journal, you have to prove something \"interesting.\"  As a result, most academics begin their research by investigating hypotheses that, all else equal, are unlikely to be true.  Suppose each research project begins with a research *hypothesis* that has a 7% chance of being correct.\n",
    "\n",
    "They then perform a study that satisfies the following two properties:\n",
    "\n",
    "    1) The probability that they correctly *find* an important result given that their *hypothesis* is true is 50%\n",
    "    2) The probability that they incorrectly *find* an important result given that their *hypothesis* is false is 5%\n",
    "\n",
    "If they *find* an important result they are published.  What is the probability that their *hypothesis* was true, given that they were published?"
   ]
  },
  {
   "cell_type": "markdown",
   "metadata": {},
   "source": [
    "P(True *given* published) $=\\frac{P(\\text{true AND published)}}{P(\\text{published})}=\\frac{P(\\text{published given true)}\\cdot P(\\text{true})}{P(\\text{published given true)}\\cdot P(\\text{true})+ P(\\text{published given false)}\\cdot P(\\text{false})} $ which are all given:\n",
    "\n",
    "$$P(\\text{True | published})= \\frac{0.5 \\cdot 0.07}{0.5 \\cdot 0.07+0.05 \\cdot 0.93}= 42.9\\%$$\n",
    "\n",
    "Our under these numbers we would expect less than half of all published results to actually be true and accurate.  This is a little scary, as the 5% and 50% numbers of the conditional probabilities above are quite common and reasonable numbers in academia.  Whether or not the 7% is accurate depends on who you ask..."
   ]
  },
  {
   "cell_type": "code",
   "execution_count": 8,
   "metadata": {},
   "outputs": [
    {
     "data": {
      "text/plain": [
       "0.42944785276073616"
      ]
     },
     "execution_count": 8,
     "metadata": {},
     "output_type": "execute_result"
    }
   ],
   "source": [
    "(0.5*0.07)/(0.5*0.07+0.05*0.93)"
   ]
  },
  {
   "cell_type": "markdown",
   "metadata": {},
   "source": [
    "[Back to top](#top)"
   ]
  }
 ],
 "metadata": {
  "kernelspec": {
   "display_name": "Python 3",
   "language": "python",
   "name": "python3"
  },
  "language_info": {
   "codemirror_mode": {
    "name": "ipython",
    "version": 3
   },
   "file_extension": ".py",
   "mimetype": "text/x-python",
   "name": "python",
   "nbconvert_exporter": "python",
   "pygments_lexer": "ipython3",
   "version": "3.6.4"
  }
 },
 "nbformat": 4,
 "nbformat_minor": 2
}
