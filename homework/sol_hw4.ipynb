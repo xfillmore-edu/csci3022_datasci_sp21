{
 "cells": [
  {
   "cell_type": "markdown",
   "metadata": {},
   "source": [
    "<a id='top'></a>\n",
    "\n",
    "# CSCI3022 S21\n",
    "# Homework 4: Using Random Variables\n",
    "***\n",
    "\n",
    "**Name**: ________________________________________________________________________\n",
    "\n",
    "***\n",
    "\n",
    "This assignment is due on Canvas by **MIDNIGHT on Monday, March 1**. Your solutions to theoretical questions should be done in Markdown directly below the associated question.  Your solutions to computational questions should include any specified Python code and results as well as written commentary on your conclusions.  Remember that you are encouraged to discuss the problems with your classmates, but **you must write all code and solutions on your own**.\n",
    "\n",
    "**NOTES**: \n",
    "\n",
    "- Any relevant data sets should be available on Canvas. To make life easier on the graders if they need to run your code, do not change the relative path names here. Instead, move the files around on your computer.\n",
    "- If you're not familiar with typesetting math directly into Markdown then by all means, do your work on paper first and then typeset it later.  Here is a [reference guide](https://math.meta.stackexchange.com/questions/5020/mathjax-basic-tutorial-and-quick-reference) linked on Canvas on writing math in Markdown. **All** of your written commentary, justifications and mathematical work should be in Markdown.  I also recommend the [wikibook](https://en.wikibooks.org/wiki/LaTeX) for LaTex.\n",
    "- Because you can technically evaluate notebook cells is a non-linear order, it's a good idea to do **Kernel $\\rightarrow$ Restart & Run All** as a check before submitting your solutions.  That way if we need to run your code you will know that it will work as expected. \n",
    "- It is **bad form** to make your reader interpret numerical output from your code.  If a question asks you to compute some value from the data you should show your code output **AND** write a summary of the results in Markdown directly below your code. \n",
    "- 95 points of this assignment are in problems.  The remaining 5 are for neatness, style, and overall exposition of both code and text.\n",
    "- This probably goes without saying, but... For any question that asks you to calculate something, you **must show all work and justify your answers to receive credit**. Sparse or nonexistent work will receive sparse or nonexistent credit. \n",
    "\n",
    "---\n",
    "**Shortcuts:**  [Problem 1](#p1) | [Problem 2](#p2) | [Problem 3](#p3) |\n",
    "---"
   ]
  },
  {
   "cell_type": "code",
   "execution_count": 2,
   "metadata": {},
   "outputs": [],
   "source": [
    "import pandas as pd\n",
    "import numpy as np\n",
    "import matplotlib.pylab as plt\n",
    "import scipy.stats as stats\n",
    "%matplotlib inline"
   ]
  },
  {
   "cell_type": "markdown",
   "metadata": {},
   "source": [
    "[Back to top](#top)\n",
    "\n",
    "<a id='p1'></a>\n",
    "\n",
    "## (25 pts) Problem 1 (Theory): Working with Distributions\n",
    "***\n",
    "\n",
    "One takeaway from our exercise on homework 1 might be the statement that \"Boulder has storm that generates over 12 inches of rain **once per 100 years**.\"  Let's explore what that probability statement might imply!\n",
    "\n",
    "**Part A**: Suppose that attempt to *count* occurrences of \"massive rainfall\" with a Poisson process.  For a *fixed* interval of 100 years, we would assert that the rate $\\lambda$ of massive rainfalls is $\\lambda = 1 \\frac{heavy\\, rain}{100 \\, yr \\, interval.}$\n",
    "\n",
    "Using `stats.poisson` and the related functions, print a list of the probabilities of observing exactly $k$ such storms in a 100-year interval for $k=0,1,2,\\dots 10$. "
   ]
  },
  {
   "cell_type": "code",
   "execution_count": 7,
   "metadata": {},
   "outputs": [
    {
     "name": "stdout",
     "output_type": "stream",
     "text": [
      "Probability of 0.0 storms is, 0.36787944117144233\n",
      "Probability of 1.0 storms is, 0.36787944117144233\n",
      "Probability of 2.0 storms is, 0.18393972058572114\n",
      "Probability of 3.0 storms is, 0.06131324019524039\n",
      "Probability of 4.0 storms is, 0.015328310048810101\n",
      "Probability of 5.0 storms is, 0.00306566200976202\n",
      "Probability of 6.0 storms is, 0.0005109436682936698\n",
      "Probability of 7.0 storms is, 7.299195261338139e-05\n",
      "Probability of 8.0 storms is, 9.123994076672672e-06\n",
      "Probability of 9.0 storms is, 1.013777119630298e-06\n",
      "Probability of 10.0 storms is, 1.0137771196302987e-07\n"
     ]
    }
   ],
   "source": [
    "kvals=np.linspace(0,10,11)\n",
    "p_probs=[stats.poisson.pmf(k,mu=1) for k in kvals]\n",
    "[print('Probability of', kvals[i], 'storms is,', probs[i]) for i in range(11)];"
   ]
  },
  {
   "cell_type": "markdown",
   "metadata": {},
   "source": [
    "**Part B**: We could instead consider describing the process of \"each year is independently and identically likely to contain a heavy storm with probability $1/100$.\"  This would suggest a different random variable to count the number of heavy storms in a 100 year period.  Which one?\n",
    "\n",
    "Using the appropriate random variable and its implementation in `scipy.stats`, again print a list of the probabilities of observing exactly $k$ storms in a 100-year interval (again, do all of $k=0,1,2,\\dots 10$)."
   ]
  },
  {
   "cell_type": "code",
   "execution_count": 9,
   "metadata": {},
   "outputs": [
    {
     "name": "stdout",
     "output_type": "stream",
     "text": [
      "Probability of 0.0 storms is, 0.3660323412732295\n",
      "Probability of 1.0 storms is, 0.36972963764971983\n",
      "Probability of 2.0 storms is, 0.18486481882486308\n",
      "Probability of 3.0 storms is, 0.060999165807528455\n",
      "Probability of 4.0 storms is, 0.014941714856894668\n",
      "Probability of 5.0 storms is, 0.0028977871237616114\n",
      "Probability of 6.0 storms is, 0.00046345080262179115\n",
      "Probability of 7.0 storms is, 6.286345663267816e-05\n",
      "Probability of 8.0 storms is, 7.381693771261511e-06\n",
      "Probability of 9.0 storms is, 7.621950919821188e-07\n",
      "Probability of 10.0 storms is, 7.006035693977161e-08\n"
     ]
    }
   ],
   "source": [
    "kvals=np.linspace(0,10,11)\n",
    "bin_probs=[stats.binom.pmf(k,n=100, p=1/100) for k in kvals]\n",
    "[print('Probability of', kvals[i], 'storms is,', bin_probs[i]) for i in range(11)];"
   ]
  },
  {
   "cell_type": "markdown",
   "metadata": {},
   "source": [
    "**Part C**: Are your results in Part A and Part B the same?  Why or why not?  What fundamental assumptions are different in using a Poisson model to describe this process instead of the model in Part B?"
   ]
  },
  {
   "cell_type": "markdown",
   "metadata": {},
   "source": [
    "**Solution**: They're not!  This is because the poisson counts the number of storms, and the binomial counts *whether or not* a storm happens in a given year.  They will differ if there's ever a year with more than one storm, since the binomial won't see the second storm!"
   ]
  },
  {
   "cell_type": "markdown",
   "metadata": {},
   "source": [
    "**Part D**: We could also use the *Geometric* random variable to track an event like \"what is the probability that we *don't* observe a single heavy storm in the 100 year interval.\"  Would this calculation agree with the corresponding probability (observing $k=0$ storms) from the models in Parts A and B?  Why or why not?  You may use code to justify your answer."
   ]
  },
  {
   "cell_type": "markdown",
   "metadata": {},
   "source": [
    "Solution: Not observing a storm in the 100 year interval is the same as the binomial returning zero, since it relies on the assumption that each year is independent.  Here we check if the \"first\" storm is in year 101 or later."
   ]
  },
  {
   "cell_type": "code",
   "execution_count": 10,
   "metadata": {},
   "outputs": [
    {
     "name": "stdout",
     "output_type": "stream",
     "text": [
      "0.3660323412732295\n"
     ]
    }
   ],
   "source": [
    "print(1-stats.geom.cdf(100,p=1/100))"
   ]
  },
  {
   "cell_type": "markdown",
   "metadata": {},
   "source": [
    "[Back to top](#top)\n",
    "\n",
    "<a id='p2'></a>\n",
    "\n",
    "## (25 pts) Problem 2 (Computation): Working with Continuous Distributions\n",
    "***\n",
    "Suppose you are creating a model to describe how long it takes you to complete your homework assignments.  For each assignment, the time required is a random variable $X$ that returns the number of hours required for that assignment.  You decide to use the following pdf for $X$:\n",
    "\n",
    "$$\n",
    "f(x) = \\begin{cases}\n",
    "         k \\ x \\ e^{\\left(-\\frac{x^2}{4}\\right)} & 0 \\leq x < \\infty \\\\\n",
    "         0                           & \\text{otherwise}\n",
    "       \\end{cases}\n",
    "$$\n",
    "where $k$ is some normalizing constant.\n",
    "\n",
    "**Part A**: Determine the value of $k$ such that $f(x)$ is a valid probability density function. Then, make a plot of the probability density function, $f(x)$. Be sure to label your plot and axes!"
   ]
  },
  {
   "cell_type": "markdown",
   "metadata": {},
   "source": [
    "By hand, we check that $\\int_0^\\infty f(x)\\, dx=1$:\n",
    "\n",
    "$$\\int_0^\\infty f(x)\\, dx=k (-2)(e^{\\left(-\\frac{x^2}{4}\\right)})\\rvert^\\infty_0= -2k(0-1)=2k$$\n",
    "\n",
    "so we choose $k=1/2$ to make this integrate to 1."
   ]
  },
  {
   "cell_type": "code",
   "execution_count": 23,
   "metadata": {},
   "outputs": [
    {
     "data": {
      "image/png": "[encoded data removed]",
      "text/plain": [
       "<matplotlib.figure.Figure at 0x2c1d05de550>"
      ]
     },
     "metadata": {},
     "output_type": "display_data"
    }
   ],
   "source": [
    "f=lambda x: 2*x*np.exp(-x**2/4)\n",
    "xgrd=np.linspace(1,10,1000)\n",
    "fig, ax=plt.subplots(figsize=(8,4))\n",
    "plt.plot(xgrd, f(xgrd))\n",
    "ax.set_ylabel('Density')\n",
    "ax.set_xlabel('Time to completion');\n",
    "ax.set_title('Homework Time pdf');"
   ]
  },
  {
   "cell_type": "markdown",
   "metadata": {},
   "source": [
    "**Part B**: Compute *by hand* the cumulative density (cdf) function $F(x)$ for $X$."
   ]
  },
  {
   "cell_type": "markdown",
   "metadata": {},
   "source": [
    "By hand, we perform $F(x)= \\int_0^x f(t)\\, dt$:\n",
    "\n",
    "$$\\int_0^x f(t)\\, dt=\\frac{1}{2} (-2)(e^{\\left(-\\frac{t^2}{4}\\right)})\\rvert^x_0= -(e^{-\\frac{x^2}{4}}-1)=1-e^{-\\frac{x^2}{4}}$$\n",
    "\n",
    "we sanity check that $F(0)=0$ and $\\lim_{x \\to \\infty} F(x)=1$."
   ]
  },
  {
   "cell_type": "markdown",
   "metadata": {},
   "source": [
    "**Part C:**  Use the cdf you derived in **Part B** to calculate the median ($\\tilde{x}$) time required for an assignment."
   ]
  },
  {
   "cell_type": "markdown",
   "metadata": {},
   "source": [
    "By hand, we set $F(\\tilde{x})= 0.5$ and solve for $\\tilde{x}$.\n",
    "\n",
    "$$0.5=1-e^{-\\frac{\\tilde{x}^2}{4}} \\implies \\ln(0.5)=\\frac{-\\tilde{x}^2}{4}\\implies \\tilde{x}=\\sqrt{-4\\ln0.5}$$\n"
   ]
  },
  {
   "cell_type": "code",
   "execution_count": 12,
   "metadata": {},
   "outputs": [
    {
     "data": {
      "text/plain": [
       "1.6651092223153954"
      ]
     },
     "execution_count": 12,
     "metadata": {},
     "output_type": "execute_result"
    }
   ],
   "source": [
    "np.sqrt(-4*np.log(0.5))"
   ]
  },
  {
   "cell_type": "markdown",
   "metadata": {},
   "source": [
    "**Part D**: It is a well-known fact that any assignment that takes longer than 200 minutes is **abhorrent**. Use the cdf you computed in **Part B** to find the probability that any arbitrary assigment that you observe is abhorrent."
   ]
  },
  {
   "cell_type": "markdown",
   "metadata": {},
   "source": [
    "We're looking for the probability of outcomes 200/60 or greater, so that's one minus the cdf at 200/60."
   ]
  },
  {
   "cell_type": "code",
   "execution_count": 25,
   "metadata": {},
   "outputs": [
    {
     "name": "stdout",
     "output_type": "stream",
     "text": [
      "Prob 200 min or more: 0.062176524022116264\n"
     ]
    }
   ],
   "source": [
    "F=lambda x: 1-np.exp(-x**2/4)\n",
    "p_abhor=1-F(200/60)\n",
    "print('Prob 200 min or more:', p_abhor)"
   ]
  },
  {
   "cell_type": "markdown",
   "metadata": {},
   "source": [
    "**Part E:**  You've done some homework and tallied up the results! Suppose you sample 6 assignment durations, and the duration of any one assignment is independent of the duration of the others. What is the probability that at least 3 but not all of them are **not** abhorrent?"
   ]
  },
  {
   "cell_type": "markdown",
   "metadata": {},
   "source": [
    "At least 3 but not all of them being abhorrent means 3, 4, or 5 total were abhorrent.  We can just sum these off of a binomial!  The value is pretty small, since each assignment is only around 6% to be abhorrent we don't often see 3, 4, or 5 out of 6 being that bad!\n"
   ]
  },
  {
   "cell_type": "code",
   "execution_count": 26,
   "metadata": {},
   "outputs": [
    {
     "name": "stdout",
     "output_type": "stream",
     "text": [
      "0.004167666713630946\n"
     ]
    }
   ],
   "source": [
    "counts=[3,4,5]\n",
    "print(np.sum([stats.binom.pmf(count, n=6, p=p_abhor) for count in counts]))"
   ]
  },
  {
   "cell_type": "markdown",
   "metadata": {},
   "source": [
    "[Back to top](#top)\n",
    "\n",
    "<a id='p3'></a>\n",
    "\n",
    "## (45 pts) Problem 3: Simulation (Stochastic Integration)\n",
    "***\n",
    "\n",
    "One really cool application of random variables is using them to approximate integrals/areas - an extension of the estimation of $\\pi$ done in nb04.  The random method of approximating integrals is used frequently in computational science to approximate really difficult integrals that we *never* want to do by hand.  In this exercise you'll figure out how we can do this in practice and test your method on an integral that we could do by hand. "
   ]
  },
  {
   "cell_type": "markdown",
   "metadata": {
    "collapsed": true
   },
   "source": [
    "**Part A.**  Let $L$ be a random variable representing how happy your new desk plant, Fernoulli Jr., is today.  It's measured by the **Lushness Index** (LI).  Suppose the probability density function for $L$ is on a scale from zero to one, and is described by an arcsine function:\n",
    "\n",
    "$$\n",
    "f_L(a) = \\begin{cases}\n",
    "         \\left(\\frac{1}{\\frac{\\pi}{2}-1}\\right)\\sin^{-1}(a) & 0 \\leq a \\leq 1 \\\\\n",
    "         0                           & \\text{otherwise}\n",
    "         \\end{cases}\n",
    "$$\n",
    "\n",
    "A Lushness Index of 1 means Fernoulli Jr. is feeling  well-watered, content, and ready to perform binary statistical experiments.  A Lushness Index of 0 means that your plant is really in need of some more sunlight.  \n",
    "\n",
    "\n",
    "\n",
    "Compute **by hand**, the integral of $f(a)$ for $0 \\leq a \\leq 1/2$.  Write a sentence or two to interpret your result physically, in the context of this problem set-up.\n",
    "\n",
    "*Hint*: this is classically an integral that makes use of the fact that $\\frac{d}{dx} \\sin^{-1}(x)=\\frac{1}{\\sqrt{1-x^2}}$.  That sounds like *\"part\"* of the solution.  You should also probably make sure you take a look at the plot of $f$, making mental note of it's minima, maxima, etc. over that interval."
   ]
  },
  {
   "cell_type": "markdown",
   "metadata": {},
   "source": [
    "**Solution** \n",
    "\n",
    "Ignoring the constant out front, let's do $\\int \\sin^{-1} x \\, dx$:\n",
    "\n",
    "$$\\begin{align}\n",
    "\\int \\sin^{-1} x \\, dx & \\stackrel{IBP}{=} x \\sin^{-1}(x)- \\int \\frac{x \\, dx}{\\sqrt{1-x^2}} \\\\\n",
    "& = x \\sin^{-1}(x)+ \\sqrt{1-x^2}  + C\\\\\n",
    "\\end{align}$$\n",
    "Plugging in the bounds of 1/2 and zero gives: $\\frac{1}{2} \\sin^{-1}{1/2}+\\sqrt{3/4}= \\frac{\\pi}{12}+\\sqrt{3/4}-1$.  Multiplying the constant out front back in:\n",
    "\n",
    "$$\\int_0^{1/2} \\sin^{-1} x \\, dx = \\left(\\frac{1}{\\frac{\\pi}{2}-1}\\right)\\left(\\frac{\\pi}{12}+\\frac{\\sqrt{3}}{2}-1\\right)$$\n",
    "\n",
    "If that wasn't enjoyable... that's OK!  That's why we have computational methods like the rest of the problem!"
   ]
  },
  {
   "cell_type": "markdown",
   "metadata": {},
   "source": [
    "**Part B.** What is the maximum of $f_L(a)$ over the interval $[0,1]$?  For the rest of the problem, we will refer to this value by $m$."
   ]
  },
  {
   "cell_type": "markdown",
   "metadata": {},
   "source": [
    "$sin^{-1}(1)=\\pi/2$, and since the function is increasing the max is $\\frac{1}{1-\\frac{2}{\\pi}}$"
   ]
  },
  {
   "cell_type": "markdown",
   "metadata": {},
   "source": [
    "**Part C.** Suppose we sample a continuous uniform random variable $X\\sim U(0,1/2)$ and another  random variable $Y \\sim U(0,m)$ and think of them as $x$- and $y$-coordinates of a point in the box $[0,1/2] \\times [0,m]$, or inside the box composed of all points $\\{(x,y)\\,|\\, x \\in [0,1/2], y \\in [0,m]\\}.$  \n",
    "\n",
    "If we compute the ratio of points that fall under the curve $f(x)$ to the total points sampled, what does this value estimate? "
   ]
  },
  {
   "cell_type": "markdown",
   "metadata": {},
   "source": [
    "This ratio will estimate the proportion of the box (which has area m/2) that's under the curve."
   ]
  },
  {
   "cell_type": "markdown",
   "metadata": {},
   "source": [
    "**Part D.** How could we modify the process outlined in the previous part so that our estimator estimates the value of the desired integral?  If you need inspiration, check out the in-class notebook on Stochastic Simulation (#4), specifically, the exercise where we estimated $\\pi$!"
   ]
  },
  {
   "cell_type": "markdown",
   "metadata": {},
   "source": [
    "The ratio of the points under the curve should be the same as the ratio of area under the curve.  So if we multiply by the area of the box, we'll be estimating the area of the curve."
   ]
  },
  {
   "cell_type": "markdown",
   "metadata": {},
   "source": [
    "**Part E.** Complete the function `integrate` below to compute an approximation to the definition integral $\\int_0^{\\text{ub}} f(x)dx$.  Your function should take as arguments:\n",
    "1. `num_samples` -- the number of points to sample,\n",
    "2. `ub` -- a number between $0$ and $1$ that is the upper bound of the integral, and\n",
    "3. `isPlot` -- a Boolean flag for whether or not to display a plot of the results.\n",
    "\n",
    "Your function should return an approximation of the definite integral by sampling $X$ from $U(0,\\text{ub})$ and $Y$ from $U(0,m)$. For each random draw $(X,Y)$, define the random variable $Z$ that represents whether or not the sampled $Y$ value is less than $f(X)$ for the corresponding $X$ value.\n",
    "\n",
    "Your function should perform three tasks: \n",
    "\n",
    "1. return the estimate of the value of the integral,\n",
    "2. return the sample variance of the random variable $Z$ being simulated, using the np.var function, and\n",
    "3. if `isPlot` is True, plot the curve $f(x)$ as well as the location of the points $(X,Y)$, colored according to whether they fall above or below the curve. "
   ]
  },
  {
   "cell_type": "code",
   "execution_count": 62,
   "metadata": {},
   "outputs": [],
   "source": [
    "# GIVEN CODE - Do not change the inputs/outputs or your code will fail unit tests and auto-grading!\n",
    "asin= lambda x: np.arcsin(x)/(np.pi/2-1)\n",
    "M=1/(1-2/np.pi)\n",
    "\n",
    "def integrate(num_samples, ub, isPlot):\n",
    "    #computations for estimated area here\n",
    "    x = np.random.uniform(0, ub, num_samples)\n",
    "    y = np.random.uniform(0, M, num_samples)\n",
    "    fx = asin(x)\n",
    "    rv = y<fx \n",
    "    estimate = ub*M*np.sum(rv)/num_samples\n",
    "    sample_var = np.var(rv)\n",
    "    if isPlot:\n",
    "        fig, ax = plt.subplots(nrows=1, ncols=1, figsize=(12,6)) \n",
    "        xval = np.arange(0, 1, 1/100)\n",
    "        ax.plot(xval, asin(xval),'--')\n",
    "        ax.scatter(x[y<=fx],y[y<=fx],c=['red'],marker = 'v')\n",
    "        ax.scatter(x[y>fx],y[y>fx],c='blue',s = 5)\n",
    "\n",
    "    return estimate, sample_var "
   ]
  },
  {
   "cell_type": "code",
   "execution_count": null,
   "metadata": {},
   "outputs": [],
   "source": []
  },
  {
   "cell_type": "markdown",
   "metadata": {},
   "source": [
    "**Part F.** Write your own small unit tests!\n",
    "\n",
    "First, what should your `integrate` function output if you plug in `ub=0`? Set that as `int_0_to_0` below.\n",
    "\n",
    "Second, what should your `integrate` function output if you plug in `ub=`1?  (Is this actually a valid pdf?) Set that as `int_0_to_1` below.\n",
    "\n",
    "Then, you can execute the cell below to run two sanity checks. Write out **in math** (like, a definite integral) what each of these two tests is checking and **why** that is a reasonable sanity check.\n",
    "\n",
    "If these two assertions run without fail, then things seem to be working okay. Note that the upper endpoint test involves randomness, so if it fails, try running it a few times. If it fails a lot, then things are probably going wrong."
   ]
  },
  {
   "cell_type": "code",
   "execution_count": 68,
   "metadata": {},
   "outputs": [],
   "source": [
    "int_0_to_0  =  0\n",
    "int_0_to_1 =  1\n",
    "\n",
    "\n",
    "#---------------------------------------\n",
    "# DO NOT EDIT THIS CELL BELOW HERE\n",
    "#---------------------------------------\n",
    "import math\n",
    "assert integrate(1000, 0, False)[0]==int_0_to_0, \"Error: lower endpoint test failing\"\n",
    "assert math.isclose(integrate(10000, 1, False)[0],int_0_to_1,abs_tol=0.03), \"Error: upper endpoint test failing\""
   ]
  },
  {
   "cell_type": "markdown",
   "metadata": {},
   "source": [
    "**Typeset the rest of solution for Problem E in this cell or cells.**"
   ]
  },
  {
   "cell_type": "markdown",
   "metadata": {},
   "source": [
    "**Part G.** Run your simulation with `isPlot=True` and `ub=`$1/2$ for 1,000 samples so we can see your plot. Then, run your simulation (with `isPlot=False`) with at least 10,000 samples and estimate the value of the given integral. Be sure to leave your cells evaluated for the graders! Does your estimate agree with the exact value of the integral you computed in **Part A**?  As a whole, what advantage does this process offer over actually doing the integral by hand?"
   ]
  },
  {
   "cell_type": "code",
   "execution_count": 64,
   "metadata": {},
   "outputs": [
    {
     "data": {
      "text/plain": [
       "(0.2171279392774562, 0.13289916000000002)"
      ]
     },
     "execution_count": 64,
     "metadata": {},
     "output_type": "execute_result"
    },
    {
     "data": {
      "image/png": "[encoded data removed]",
      "text/plain": [
       "<matplotlib.figure.Figure at 0x2c1d097b6a0>"
      ]
     },
     "metadata": {},
     "output_type": "display_data"
    }
   ],
   "source": [
    "#Integrate, plot, and estimate!\n",
    "integrate(1000, 1/2, True)\n",
    "integrate(10000, 1/2, False)"
   ]
  },
  {
   "cell_type": "markdown",
   "metadata": {},
   "source": [
    "The advantage is that we don't *have* to integrate by hand.  That said, this method is both subject to more error and takes longer than standard numerical quadrature techniques (RK4, Simpson's Rule, etc.), so in practice we don't really use it for this.  That said, this style of estimation is called an *accept/reject* algorithm because it uses randomness to sometimes *accept* values below the curve as estimates of the area.  They're common in a lot of scenarions!"
   ]
  }
 ],
 "metadata": {
  "kernelspec": {
   "display_name": "Python 3",
   "language": "python",
   "name": "python3"
  },
  "language_info": {
   "codemirror_mode": {
    "name": "ipython",
    "version": 3
   },
   "file_extension": ".py",
   "mimetype": "text/x-python",
   "name": "python",
   "nbconvert_exporter": "python",
   "pygments_lexer": "ipython3",
   "version": "3.6.4"
  }
 },
 "nbformat": 4,
 "nbformat_minor": 2
}
